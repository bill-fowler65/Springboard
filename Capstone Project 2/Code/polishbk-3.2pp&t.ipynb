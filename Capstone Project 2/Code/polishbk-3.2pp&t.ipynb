{
 "cells": [
  {
   "cell_type": "markdown",
   "id": "e9b9af03",
   "metadata": {},
   "source": [
    "# Capstone 2"
   ]
  },
  {
   "cell_type": "markdown",
   "id": "fba1dd20",
   "metadata": {},
   "source": [
    "## Polish Bankruptcy"
   ]
  },
  {
   "cell_type": "markdown",
   "id": "571dad5a",
   "metadata": {},
   "source": [
    "## Pre-processing and Training"
   ]
  },
  {
   "cell_type": "markdown",
   "id": "1dfa3a73",
   "metadata": {},
   "source": [
    "In the pre-processing step I will impute the missing values and from the data, drop redundent high correlation variables from the dataset, complete a stratified train test split and and investigate scaling the training data.  Because of the high amount of skewed data the possibility of transforming the data may need to be done after the initial models.  "
   ]
  },
  {
   "cell_type": "markdown",
   "id": "0d6b0a39",
   "metadata": {},
   "source": [
    "## Import Statements"
   ]
  },
  {
   "cell_type": "code",
   "execution_count": 1,
   "id": "573e8927",
   "metadata": {},
   "outputs": [],
   "source": [
    "import pandas as pd\n",
    "import numpy as np\n",
    "import os\n",
    "import pickle\n",
    "import matplotlib.pyplot as plt\n",
    "import seaborn as sns\n",
    "from sklearn.decomposition import PCA\n",
    "from sklearn.preprocessing import scale\n",
    "from random import randint, choice\n",
    "import random\n",
    "\n",
    "from sklearn.model_selection import train_test_split\n",
    "from sklearn.preprocessing import StandardScaler\n",
    "from sklearn.linear_model import LogisticRegression\n",
    "from sklearn.metrics import accuracy_score\n",
    "from sklearn.metrics import classification_report"
   ]
  },
  {
   "cell_type": "markdown",
   "id": "9c7fbdfd",
   "metadata": {},
   "source": [
    "## Load Data"
   ]
  },
  {
   "cell_type": "code",
   "execution_count": 2,
   "id": "46121cb7",
   "metadata": {},
   "outputs": [
    {
     "name": "stdout",
     "output_type": "stream",
     "text": [
      "<class 'pandas.core.frame.DataFrame'>\n",
      "RangeIndex: 111 entries, 0 to 110\n",
      "Data columns (total 3 columns):\n",
      " #   Column       Non-Null Count  Dtype  \n",
      "---  ------       --------------  -----  \n",
      " 0   Feature1     111 non-null    object \n",
      " 1   Feature2     111 non-null    object \n",
      " 2   Correlation  111 non-null    float64\n",
      "dtypes: float64(1), object(2)\n",
      "memory usage: 2.7+ KB\n",
      "None\n"
     ]
    }
   ],
   "source": [
    "#load bankruptcy data and column key data\n",
    "bankruptcy_data = pd.read_csv('bankruptcy_data_comb.csv')\n",
    "data_columns = pd.read_csv('column_key.csv')\n",
    "\n",
    "#load high correlation dataframe\n",
    "dataCorrhigh = pd.read_csv('dataCorrhigh.csv')\n",
    "\n",
    "#display high correlation pairs dataframe\n",
    "print(dataCorrhigh.info())"
   ]
  },
  {
   "cell_type": "markdown",
   "id": "4917aaaa",
   "metadata": {},
   "source": [
    "## Impute missing data"
   ]
  },
  {
   "cell_type": "markdown",
   "id": "2178b09d",
   "metadata": {},
   "source": [
    "Based of the distribution of data and the number of outliers, I have made the decsion to imput the missing values based on the median of each column."
   ]
  },
  {
   "cell_type": "code",
   "execution_count": 3,
   "id": "2aa4bad4",
   "metadata": {},
   "outputs": [
    {
     "name": "stdout",
     "output_type": "stream",
     "text": [
      "<class 'pandas.core.frame.DataFrame'>\n",
      "RangeIndex: 43405 entries, 0 to 43404\n",
      "Data columns (total 66 columns):\n",
      " #   Column  Non-Null Count  Dtype  \n",
      "---  ------  --------------  -----  \n",
      " 0   X01     43405 non-null  float64\n",
      " 1   X02     43405 non-null  float64\n",
      " 2   X03     43405 non-null  float64\n",
      " 3   X04     43405 non-null  float64\n",
      " 4   X05     43405 non-null  float64\n",
      " 5   X06     43405 non-null  float64\n",
      " 6   X07     43405 non-null  float64\n",
      " 7   X08     43405 non-null  float64\n",
      " 8   X09     43405 non-null  float64\n",
      " 9   X10     43405 non-null  float64\n",
      " 10  X11     43405 non-null  float64\n",
      " 11  X12     43405 non-null  float64\n",
      " 12  X13     43405 non-null  float64\n",
      " 13  X14     43405 non-null  float64\n",
      " 14  X15     43405 non-null  float64\n",
      " 15  X16     43405 non-null  float64\n",
      " 16  X17     43405 non-null  float64\n",
      " 17  X18     43405 non-null  float64\n",
      " 18  X19     43405 non-null  float64\n",
      " 19  X20     43405 non-null  float64\n",
      " 20  X21     43405 non-null  float64\n",
      " 21  X22     43405 non-null  float64\n",
      " 22  X23     43405 non-null  float64\n",
      " 23  X24     43405 non-null  float64\n",
      " 24  X25     43405 non-null  float64\n",
      " 25  X26     43405 non-null  float64\n",
      " 26  X27     43405 non-null  float64\n",
      " 27  X28     43405 non-null  float64\n",
      " 28  X29     43405 non-null  float64\n",
      " 29  X30     43405 non-null  float64\n",
      " 30  X31     43405 non-null  float64\n",
      " 31  X32     43405 non-null  float64\n",
      " 32  X33     43405 non-null  float64\n",
      " 33  X34     43405 non-null  float64\n",
      " 34  X35     43405 non-null  float64\n",
      " 35  X36     43405 non-null  float64\n",
      " 36  X37     43405 non-null  float64\n",
      " 37  X38     43405 non-null  float64\n",
      " 38  X39     43405 non-null  float64\n",
      " 39  X40     43405 non-null  float64\n",
      " 40  X41     43405 non-null  float64\n",
      " 41  X42     43405 non-null  float64\n",
      " 42  X43     43405 non-null  float64\n",
      " 43  X44     43405 non-null  float64\n",
      " 44  X45     43405 non-null  float64\n",
      " 45  X46     43405 non-null  float64\n",
      " 46  X47     43405 non-null  float64\n",
      " 47  X48     43405 non-null  float64\n",
      " 48  X49     43405 non-null  float64\n",
      " 49  X50     43405 non-null  float64\n",
      " 50  X51     43405 non-null  float64\n",
      " 51  X52     43405 non-null  float64\n",
      " 52  X53     43405 non-null  float64\n",
      " 53  X54     43405 non-null  float64\n",
      " 54  X55     43405 non-null  float64\n",
      " 55  X56     43405 non-null  float64\n",
      " 56  X57     43405 non-null  float64\n",
      " 57  X58     43405 non-null  float64\n",
      " 58  X59     43405 non-null  float64\n",
      " 59  X60     43405 non-null  float64\n",
      " 60  X61     43405 non-null  float64\n",
      " 61  X62     43405 non-null  float64\n",
      " 62  X63     43405 non-null  float64\n",
      " 63  X64     43405 non-null  float64\n",
      " 64  Class   43405 non-null  int64  \n",
      " 65  Year    43405 non-null  int64  \n",
      "dtypes: float64(64), int64(2)\n",
      "memory usage: 21.9 MB\n"
     ]
    }
   ],
   "source": [
    "#create new dataframe by imputing missing values with the median\n",
    "bankruptcy_complete = bankruptcy_data.apply(lambda x: x.fillna(x.median()),axis=0)\n",
    "\n",
    "#display complete dataframe\n",
    "bankruptcy_complete.info()"
   ]
  },
  {
   "cell_type": "markdown",
   "id": "4bb2ae63",
   "metadata": {},
   "source": [
    "## Drop redundant high correlation  columns\n"
   ]
  },
  {
   "cell_type": "code",
   "execution_count": 4,
   "id": "393c7d9b",
   "metadata": {},
   "outputs": [
    {
     "name": "stdout",
     "output_type": "stream",
     "text": [
      "['X56', 'X04', 'X58', 'X20', 'X08', 'X19', 'X31', 'X44', 'X10', 'X54', 'X31', 'X03', 'X50', 'X04', 'X14', 'X09', 'X56', 'X20', 'X43', 'X26', 'X44', 'X44', 'X44', 'X33', 'X22', 'X16', 'X22', 'X12', 'X44', 'X49', 'X20', 'X49', 'X58', 'X11', 'X34', 'X30', 'X52', 'X33', 'X47', 'X63', 'X36', 'X03', 'X51', 'X62', 'X54', 'X53', 'X30', 'X43', 'X35', 'X11', 'X36', 'X63', 'X35', 'X49', 'X09', 'X11', 'X11', 'X56', 'X58', 'X30', 'X63', 'X35', 'X11', 'X22', 'X33', 'X35', 'X33', 'X18', 'X44', 'X62', 'X33', 'X48', 'X62', 'X62', 'X58', 'X48', 'X10', 'X38', 'X06', 'X34', 'X34', 'X14', 'X35', 'X24', 'X24', 'X06', 'X06', 'X48', 'X24', 'X14', 'X34', 'X24', 'X56', 'X13', 'X13', 'X34', 'X22', 'X35', 'X13', 'X63', 'X44', 'X13', 'X63']\n"
     ]
    }
   ],
   "source": [
    "# drop first row of correlation dataframe with correlation of 1.  Data is identical \n",
    "dataCorrhigh = dataCorrhigh.drop(dataCorrhigh.index[0]).reset_index(drop=True)\n",
    "\n",
    "#create empty final high correlation dataframe\n",
    "corr_high_final = []\n",
    "\n",
    "# remove redundant feature X07\n",
    "dataCorrhigh = dataCorrhigh.drop(dataCorrhigh[(dataCorrhigh['Feature1'] == 'X07') | (dataCorrhigh['Feature2'] == 'X07')].index,axis = 0 ,inplace = False)\n",
    "dataCorrhigh = dataCorrhigh.reset_index(drop=True)\n",
    "\n",
    "# iterate over high correlation dataframe and use random number to determine final feture dataframe\n",
    "for x in range(len(dataCorrhigh)):\n",
    "    k = random.randint(0, 1)\n",
    "    if k == 0:\n",
    "        corr_high_final.append(dataCorrhigh['Feature1'][x])\n",
    "        \n",
    "    else:\n",
    "        corr_high_final.append(dataCorrhigh['Feature2'][x])\n",
    "   \n",
    "print(corr_high_final)"
   ]
  },
  {
   "cell_type": "markdown",
   "id": "e2997699",
   "metadata": {},
   "source": [
    "## Create final feature array "
   ]
  },
  {
   "cell_type": "code",
   "execution_count": 5,
   "id": "a69759c2",
   "metadata": {},
   "outputs": [
    {
     "name": "stdout",
     "output_type": "stream",
     "text": [
      "['X03' 'X04' 'X06' 'X08' 'X09' 'X10' 'X11' 'X12' 'X13' 'X14' 'X16' 'X18'\n",
      " 'X19' 'X20' 'X22' 'X24' 'X26' 'X30' 'X31' 'X33' 'X34' 'X35' 'X36' 'X38'\n",
      " 'X43' 'X44' 'X47' 'X48' 'X49' 'X50' 'X51' 'X52' 'X53' 'X54' 'X56' 'X58'\n",
      " 'X62' 'X63']\n"
     ]
    }
   ],
   "source": [
    "# get unique feature array\n",
    "feature_df = np.unique(corr_high_final)\n",
    "print(feature_df)"
   ]
  },
  {
   "cell_type": "markdown",
   "id": "66f0f48f",
   "metadata": {},
   "source": [
    "## Remove non correlated columns from bankruptcy data"
   ]
  },
  {
   "cell_type": "code",
   "execution_count": 6,
   "id": "ec48ac76",
   "metadata": {},
   "outputs": [
    {
     "name": "stdout",
     "output_type": "stream",
     "text": [
      "         X03      X04       X06       X08      X09      X10       X11  \\\n",
      "0   0.396410   2.0472  0.388250   1.33050  1.13890  0.50494  0.249760   \n",
      "1   0.472250   1.9447  0.000000   0.99601  1.69960  0.49788  0.261140   \n",
      "2   0.267130   1.5548  0.000000   0.43695  1.30900  0.30408  0.312580   \n",
      "3   0.458790   2.4928  0.149880   1.86610  1.05710  0.57353  0.092704   \n",
      "4   0.229600   1.4063  0.187320   0.63070  1.15590  0.38677  0.187320   \n",
      "5   0.359690   1.7502  0.000000   1.00830  1.97860  0.50206  0.286450   \n",
      "6   0.289710   1.4705  0.000000   0.54454  1.73480  0.35256  0.125750   \n",
      "7   0.705540  53.9540  0.000000  35.95700  0.65273  0.97294  0.693940   \n",
      "8   0.053735   1.1263  0.000000   0.58223  1.33320  0.36798  0.043162   \n",
      "9   0.142040   1.1694  0.000000   0.19279  2.11560  0.16163  0.184540   \n",
      "10  0.188350   1.4400 -0.931900   1.25450  4.74470  0.55645  0.242270   \n",
      "11  0.119890   2.0754 -0.084883   7.67410  0.90732  0.85551 -0.024300   \n",
      "12  0.611470   3.0243  0.559830   1.85770  1.12680  0.65006  0.332070   \n",
      "13  0.081562   2.9576  0.212650   4.02900  1.25700  0.80115  0.078063   \n",
      "14  0.452640   7.5746  0.010387   3.73240  1.02410  0.78869 -0.034653   \n",
      "15 -0.205990   0.8215 -0.104130  -0.15900  0.97767 -0.18349 -0.033801   \n",
      "16  0.468700   2.5669  0.727930   2.23150  1.22140  0.66750  0.336190   \n",
      "17  0.432240   3.0128  0.021598   3.10370  1.01250  0.75206  0.039729   \n",
      "18  0.134950   1.2408  0.000000   0.78452  2.27060  0.43963  0.249910   \n",
      "19  0.425480   2.0190  0.005436   1.01410  2.28270  0.50350  0.266240   \n",
      "\n",
      "          X12       X13       X14  ...       X51       X52       X53      X54  \\\n",
      "0    0.659800  0.166600  0.249760  ...  0.378540  0.257920   2.24370   2.2480   \n",
      "1    0.516800  0.158350  0.258340  ...  0.499880  0.334720  17.86600  17.8660   \n",
      "2    0.641840  0.244350  0.309060  ...  0.481520  0.484740   1.20980   2.0504   \n",
      "3    0.301630  0.094257  0.092704  ...  0.307340  0.250330   2.45240   2.4524   \n",
      "4    0.331470  0.121820  0.187320  ...  0.565110  0.402850   1.88390   2.1184   \n",
      "5    0.586910  0.148120  0.281390  ...  0.479440  0.281540   3.12090   3.1927   \n",
      "6    0.180410  0.309630  0.111090  ...  0.615760  0.900640   3.72970   3.7297   \n",
      "7   48.966000  1.060200  0.652400  ...  0.013323  0.022350   3.46070   3.5064   \n",
      "8    0.033921  0.038938  0.014434  ...  0.425540  0.380460   0.70666   0.9476   \n",
      "9    0.182840  0.075411  0.153280  ...  0.838310  0.430560   8.22600   8.2260   \n",
      "10   0.560720  0.195100  0.240010  ...  0.428040  0.139560   1.45050   1.4505   \n",
      "11  -0.217980  0.101640 -0.024300  ...  0.111480  0.190740   1.11300   1.1130   \n",
      "12   1.099300  0.120470  0.332070  ...  0.302070  0.117830   7.51920   8.0728   \n",
      "13   1.873600  0.310360  0.078063  ...  0.041664  0.207380   0.91375   1.0930   \n",
      "14  -0.503330  0.004191 -0.034653  ...  0.068848  0.089246   1.64820   1.9460   \n",
      "15  -0.029291 -0.012483 -0.033801  ...  1.154000  0.489670  -3.52770  -3.5277   \n",
      "16   1.123900  0.206840  0.336190  ...  0.299130  0.201770   2.87500   2.8750   \n",
      "17   0.185000  0.044190  0.039729  ...  0.214750  0.115080   2.13040   2.2085   \n",
      "18   0.433470  0.117000  0.242910  ...  0.560370  0.276580   1.44290   1.4429   \n",
      "19   0.613570  0.140630  0.256190  ...  0.417540  0.206220   3.20750   3.3581   \n",
      "\n",
      "         X56      X58       X62      X63  Year  Class  \n",
      "0   0.121960  0.87804   82.6580   4.4158     1      0  \n",
      "1   0.121300  0.85300  107.3500   3.4000     1      0  \n",
      "2   0.241140  0.76599  134.2700   2.7185     1      0  \n",
      "3   0.054015  0.94598   86.4350   4.2228     1      0  \n",
      "4   0.134850  0.86515  127.2100   2.8692     1      0  \n",
      "5   0.139320  0.85891   88.4440   4.1269     1      0  \n",
      "6   0.605900  0.40871  129.5500   2.8173     1      0  \n",
      "7   0.086730  0.49521    7.4503  48.9910     1      0  \n",
      "8   0.180110  0.84165  116.5000   3.1330     1      0  \n",
      "9   0.079665  0.92847  144.6300   2.5236     1      0  \n",
      "10  0.353590  0.64794   32.9280  11.0850     1      0  \n",
      "11 -0.102140  1.10210   76.7320   4.7568     1      0  \n",
      "12  0.112500  0.88750   38.1680   9.5629     1      0  \n",
      "13  0.204440  0.79556   60.2180   6.0613     1      0  \n",
      "14  0.023565  0.97644   31.8070  11.4750     1      0  \n",
      "15 -0.022837  1.02280  182.8100   1.9966     1      0  \n",
      "16  0.181270  0.81873   60.2970   6.0534     1      0  \n",
      "17  0.012367  0.98763   41.4850   8.7984     1      0  \n",
      "18  0.107700  0.89419   90.0800   4.0519     1      0  \n",
      "19  0.112990  0.88859   66.7640   5.4670     1      0  \n",
      "\n",
      "[20 rows x 40 columns]\n"
     ]
    }
   ],
   "source": [
    "#create new dataframe with high correlation features\n",
    "bankruptcy_data_final = bankruptcy_complete[feature_df].copy()\n",
    "\n",
    "# add back in the year and class features\n",
    "bankruptcy_data_final = pd.concat([bankruptcy_data_final,bankruptcy_complete['Year']], axis = 1)\n",
    "bankruptcy_data_final = pd.concat([bankruptcy_data_final,bankruptcy_complete['Class']], axis = 1)\n",
    "print(bankruptcy_data_final.head(20))"
   ]
  },
  {
   "cell_type": "markdown",
   "id": "1f64a91a",
   "metadata": {},
   "source": [
    "## Train test split\n"
   ]
  },
  {
   "cell_type": "markdown",
   "id": "9970c2fe",
   "metadata": {},
   "source": [
    "Train test split will be done with the stardard 75/25 split and the data stratified by bankruptcy class to maintain ratio of bankrupt and non-bankrupt entries."
   ]
  },
  {
   "cell_type": "code",
   "execution_count": 7,
   "id": "30b7204a",
   "metadata": {},
   "outputs": [
    {
     "name": "stdout",
     "output_type": "stream",
     "text": [
      "           X03      X04       X06      X08      X09      X10       X11  \\\n",
      "12113 -0.83283  0.39990 -1.630900 -0.31339  0.88906 -0.43594 -1.068200   \n",
      "3289   0.27021  2.05400  0.035034  2.84740  0.98773  0.72997  0.014925   \n",
      "16567 -0.12099  0.72904  0.188430  0.74268  1.00990  0.40316  0.013167   \n",
      "21367  0.37752  2.66550  0.297050  0.78826  1.12700  0.43244  0.119670   \n",
      "32394  0.60189  6.70350  0.390000  8.44050  1.16000  0.89073  0.152710   \n",
      "...        ...      ...       ...      ...      ...      ...       ...   \n",
      "24299 -0.69448  0.25470 -0.072920 -0.53611  1.14410 -1.15570 -1.080300   \n",
      "41350  0.28017  1.64960  0.217130  1.25060  1.07930  0.53940  0.143070   \n",
      "38703  0.17282  1.91770  0.000000  0.81292  1.18680  0.44840  0.137730   \n",
      "12352  0.49805  5.54020 -0.000078  5.64980  0.99346  0.84962  0.152910   \n",
      "24962 -0.24260  0.54536 -0.054472  0.44388  6.12300  0.30742  0.051654   \n",
      "\n",
      "            X12       X13       X14  ...      X50      X51      X52      X53  \\\n",
      "12113 -0.769670 -0.104620 -1.068200  ...  0.39897  1.38780  0.63015 -0.97963   \n",
      "3289   0.058218  0.023540  0.014925  ...  2.05400  0.25636  0.09056  1.54190   \n",
      "16567  0.029487  0.032714  0.013167  ...  0.59969  0.44653  0.32606  0.59774   \n",
      "21367  0.527940  0.125330  0.119670  ...  1.10130  0.22667  0.21798  1.09260   \n",
      "32394  1.447100  0.196260  0.152710  ...  6.70350  0.10553  0.12214  3.04450   \n",
      "...         ...       ...       ...  ...      ...      ...      ...      ...   \n",
      "24299 -1.222200 -0.961970 -1.138900  ...  0.11009  0.93181  0.41841 -1.51530   \n",
      "41350  0.331700  0.092277  0.143070  ...  1.64960  0.43133  0.25757  1.86960   \n",
      "38703  0.423600  0.093009  0.079772  ...  0.65471  0.18832  0.17762  0.70188   \n",
      "12352  1.383600  0.194080  0.151780  ...  4.04140  0.10970  0.12755  2.16600   \n",
      "24962  0.060870  0.016724  0.032481  ...  0.42018  0.53360  0.08765  0.43360   \n",
      "\n",
      "           X54       X56      X58      X62      X63  Year  \n",
      "12113 -0.97235 -0.124790  1.12480  258.710   1.4109     2  \n",
      "3289   1.54190 -0.012423  1.01240   33.465  10.9070     1  \n",
      "16567  0.74054  0.009814  0.99019  117.840   3.0973     2  \n",
      "21367  1.90590  0.112700  0.88730   70.597   5.1702     3  \n",
      "32394  3.04450  0.137950  0.86205   38.432   9.4973     4  \n",
      "...        ...       ...      ...      ...      ...   ...  \n",
      "24299  0.08941 -0.919860  1.99770  297.260   1.2279     3  \n",
      "41350  1.86960  0.073493  0.92651   87.103   4.1905     5  \n",
      "38703  1.23820  0.106670  0.93618   57.917   6.3021     5  \n",
      "12352  2.16600  0.134320  0.85032   40.303   9.0564     2  \n",
      "24962  0.65036  0.007864  0.99739   31.809  11.4750     3  \n",
      "\n",
      "[32553 rows x 39 columns]\n"
     ]
    }
   ],
   "source": [
    "X_train, X_test, y_train, y_test = train_test_split(bankruptcy_data_final.drop(columns='Class'), bankruptcy_data_final.Class,\n",
    "                                                    test_size=.25  ,random_state=5, stratify=bankruptcy_data_final.Class)\n",
    "\n",
    "print(X_train)"
   ]
  },
  {
   "cell_type": "code",
   "execution_count": 8,
   "id": "968b5415",
   "metadata": {},
   "outputs": [
    {
     "name": "stdout",
     "output_type": "stream",
     "text": [
      "12113    0\n",
      "3289     0\n",
      "16567    0\n",
      "21367    0\n",
      "32394    0\n",
      "        ..\n",
      "24299    0\n",
      "41350    0\n",
      "38703    0\n",
      "12352    0\n",
      "24962    0\n",
      "Name: Class, Length: 32553, dtype: int64\n"
     ]
    }
   ],
   "source": [
    "print(y_train)"
   ]
  },
  {
   "cell_type": "code",
   "execution_count": 9,
   "id": "abee5042",
   "metadata": {},
   "outputs": [
    {
     "name": "stdout",
     "output_type": "stream",
     "text": [
      "            X03      X04       X06       X08      X09       X10       X11  \\\n",
      "25162 -0.037208  0.82964  0.036874  1.170500  0.99219  0.407140  0.005390   \n",
      "15362  0.381770  2.64830  0.160060  3.317500  1.95710  0.768380  0.294360   \n",
      "4236   0.253630  2.00330  0.393040  2.890600  1.07750  0.730760  0.108000   \n",
      "33893 -0.029308  0.96085 -0.376400  0.335800  1.21670  0.251390  0.062945   \n",
      "40333  0.088177  1.38210  0.000000  3.188200  1.73650  0.761230  0.011931   \n",
      "...         ...      ...       ...       ...      ...       ...       ...   \n",
      "10939 -0.205130  0.58910  0.117250  0.241780  1.23530  0.168120  0.031665   \n",
      "9520  -0.577590  0.39683 -0.132020  0.034792  1.38560  0.033622  0.100260   \n",
      "41847  0.243250  1.62230  0.004878  1.023400  0.99943  0.477800  0.006726   \n",
      "38614 -0.078133  0.73275 -0.010568  0.841350  1.00960  0.433760 -0.013002   \n",
      "33968  0.169880  1.75800 -0.013478  1.093600  0.99949  0.370360  0.019724   \n",
      "\n",
      "            X12       X13       X14  ...      X50      X51       X52      X53  \\\n",
      "25162  0.024679  0.035021  0.005390  ...  0.52094  0.21841  0.108350  0.49724   \n",
      "15362  1.248100  0.164470  0.289080  ...  2.64830  0.23162  0.134840  1.98750   \n",
      "4236   0.427190  0.110780  0.108000  ...  2.00330  0.25281  0.199250  1.48060   \n",
      "33893  0.082575  0.050809  0.061817  ...  0.96085  0.74861  1.818000  0.89559   \n",
      "40333  0.041910  0.048501  0.009673  ...  1.33590  0.23079  0.133310  1.11780   \n",
      "...         ...       ...       ...  ...      ...      ...       ...      ...   \n",
      "10939  0.063428  0.109370  0.031665  ...  0.42294  0.49922  1.047700  0.23816   \n",
      "9520   0.092324  0.087544  0.088408  ...  0.39323  0.95759  0.750950  0.05423   \n",
      "41847  0.017206  0.020965  0.006726  ...  1.35820  0.39089  0.087941  1.30600   \n",
      "38614 -0.044473  0.060396 -0.013002  ...  0.41553  0.29236  0.298580  0.55201   \n",
      "33968  0.088012  0.092565  0.019724  ...  1.16340  0.22411  0.381050  0.61114   \n",
      "\n",
      "           X54       X56      X58      X62      X63  Year  \n",
      "25162  0.65530 -0.007875  1.00790   39.858   9.1575     3  \n",
      "15362  1.98750  0.122290  0.85683   43.197   8.4496     2  \n",
      "4236   1.48060  0.071904  0.92810   67.497   5.4076     1  \n",
      "33893  0.89559  0.661550  0.33983  224.590   1.6252     4  \n",
      "40333  1.11780  0.003047  0.99446   48.511   7.5241     5  \n",
      "...        ...       ...      ...      ...      ...   ...  \n",
      "10939  0.51600  0.190460  0.80954  309.570   1.1791     2  \n",
      "9520   0.05423  0.079693  0.93672  252.250   1.4470     2  \n",
      "41847  1.51370 -0.000568  1.00060   32.117  11.3650     5  \n",
      "38614  0.83606  0.009520  0.99048  107.950   3.3813     5  \n",
      "33968  0.80016 -0.000512  1.00050  139.160   2.6230     4  \n",
      "\n",
      "[10852 rows x 39 columns]\n"
     ]
    }
   ],
   "source": [
    "print(X_test)"
   ]
  },
  {
   "cell_type": "code",
   "execution_count": 10,
   "id": "512e406e",
   "metadata": {},
   "outputs": [
    {
     "name": "stdout",
     "output_type": "stream",
     "text": [
      "25162    0\n",
      "15362    0\n",
      "4236     0\n",
      "33893    0\n",
      "40333    0\n",
      "        ..\n",
      "10939    0\n",
      "9520     0\n",
      "41847    0\n",
      "38614    0\n",
      "33968    0\n",
      "Name: Class, Length: 10852, dtype: int64\n"
     ]
    }
   ],
   "source": [
    "print(y_test)"
   ]
  },
  {
   "cell_type": "code",
   "execution_count": 11,
   "id": "9bf21a3a",
   "metadata": {},
   "outputs": [
    {
     "data": {
      "text/plain": [
       "((32553, 39), (10852, 39))"
      ]
     },
     "execution_count": 11,
     "metadata": {},
     "output_type": "execute_result"
    }
   ],
   "source": [
    "#display X training and test sizes\n",
    "X_train.shape, X_test.shape"
   ]
  },
  {
   "cell_type": "code",
   "execution_count": 12,
   "id": "6ddb0334",
   "metadata": {},
   "outputs": [
    {
     "data": {
      "text/plain": [
       "((32553,), (10852,))"
      ]
     },
     "execution_count": 12,
     "metadata": {},
     "output_type": "execute_result"
    }
   ],
   "source": [
    "# display y training and test sizes\n",
    "y_train.shape, y_test.shape"
   ]
  },
  {
   "cell_type": "code",
   "execution_count": 13,
   "id": "ea6fbec5",
   "metadata": {},
   "outputs": [
    {
     "name": "stdout",
     "output_type": "stream",
     "text": [
      "Index(['X03', 'X04', 'X06', 'X08', 'X09', 'X10', 'X11', 'X12', 'X13', 'X14',\n",
      "       'X16', 'X18', 'X19', 'X20', 'X22', 'X24', 'X26', 'X30', 'X31', 'X33',\n",
      "       'X34', 'X35', 'X36', 'X38', 'X43', 'X44', 'X47', 'X48', 'X49', 'X50',\n",
      "       'X51', 'X52', 'X53', 'X54', 'X56', 'X58', 'X62', 'X63', 'Year'],\n",
      "      dtype='object')\n"
     ]
    }
   ],
   "source": [
    "# verify proper training columns\n",
    "print(X_train.columns)"
   ]
  },
  {
   "cell_type": "markdown",
   "id": "548a3199",
   "metadata": {},
   "source": [
    "## Scale the data"
   ]
  },
  {
   "cell_type": "markdown",
   "id": "43fa575b",
   "metadata": {},
   "source": [
    "Based on the range of the data and the degree of outliers the data was scaled before the logistic regression."
   ]
  },
  {
   "cell_type": "code",
   "execution_count": 14,
   "id": "dd8b7e76",
   "metadata": {},
   "outputs": [],
   "source": [
    "# scale fit and transform the data using standard scaler\n",
    "scaler = StandardScaler()\n",
    "scaler.fit(X_train)\n",
    "X_train_scaled = pd.DataFrame(scaler.transform(X_train), index=X_train.index, columns=X_train.columns)\n",
    "X_test_scaled = pd.DataFrame(scaler.transform(X_test), index=X_test.index, columns=X_test.columns)"
   ]
  },
  {
   "cell_type": "code",
   "execution_count": 15,
   "id": "77311209",
   "metadata": {},
   "outputs": [
    {
     "name": "stdout",
     "output_type": "stream",
     "text": [
      "            X03       X04       X06       X08       X09       X10       X11  \\\n",
      "12113 -0.163551 -0.019446 -0.213395 -0.025616 -0.037721 -0.073549 -0.339471   \n",
      "3289   0.028093 -0.014577  0.010597 -0.019986 -0.035235  0.009176 -0.032724   \n",
      "16567 -0.039875 -0.018477  0.031222 -0.023735 -0.034676 -0.014012 -0.033221   \n",
      "21367  0.046737 -0.012777  0.045826 -0.023654 -0.031725 -0.011934 -0.003059   \n",
      "32394  0.085720 -0.000891  0.058324 -0.010024 -0.030893  0.020583  0.006298   \n",
      "...         ...       ...       ...       ...       ...       ...       ...   \n",
      "24299 -0.139514 -0.019874 -0.003918 -0.026012 -0.031294 -0.124618 -0.342898   \n",
      "41350  0.029824 -0.015768  0.035081 -0.022830 -0.032927 -0.004345  0.003568   \n",
      "38703  0.011172 -0.014978  0.005887 -0.023610 -0.030218 -0.010802  0.002055   \n",
      "12352  0.067679 -0.004315  0.005876 -0.014995 -0.035090  0.017666  0.006355   \n",
      "24962 -0.061004 -0.019018 -0.001437 -0.024267  0.094182 -0.020805 -0.022322   \n",
      "\n",
      "            X12       X13       X14  ...       X50       X51       X52  \\\n",
      "12113 -0.025469 -0.012541 -0.257295  ... -0.017743  0.156218 -0.010243   \n",
      "3289  -0.014684 -0.011254 -0.017094  ... -0.013072 -0.040386 -0.010977   \n",
      "16567 -0.015058 -0.011162 -0.017484  ... -0.017177 -0.007341 -0.010657   \n",
      "21367 -0.008565 -0.010231  0.006135  ... -0.015761 -0.045545 -0.010803   \n",
      "32394  0.003409 -0.009519  0.013462  ...  0.000051 -0.066595 -0.010934   \n",
      "...         ...       ...       ...  ...       ...       ...       ...   \n",
      "24299 -0.031364 -0.021155 -0.272973  ... -0.018558  0.076984 -0.010531   \n",
      "41350 -0.011121 -0.010563  0.011325  ... -0.014213 -0.009982 -0.010750   \n",
      "38703 -0.009924 -0.010556 -0.002713  ... -0.017021 -0.052209 -0.010858   \n",
      "12352  0.002582 -0.009540  0.013256  ... -0.007463 -0.065870 -0.010926   \n",
      "24962 -0.014649 -0.011322 -0.013200  ... -0.017683  0.007789 -0.010981   \n",
      "\n",
      "            X53       X54       X56       X58       X62       X63      Year  \n",
      "12113 -0.018906 -0.019411  0.005598 -0.006091 -0.008469 -0.127717 -0.729970  \n",
      "3289  -0.016802 -0.017316  0.005616 -0.006109 -0.009934  0.033371 -1.508513  \n",
      "16567 -0.017590 -0.017984  0.005620 -0.006113 -0.009385 -0.099110 -0.729970  \n",
      "21367 -0.017177 -0.017012  0.005636 -0.006129 -0.009693 -0.063946  0.048574  \n",
      "32394 -0.015548 -0.016063  0.005640 -0.006133 -0.009902  0.009457  0.827117  \n",
      "...         ...       ...       ...       ...       ...       ...       ...  \n",
      "24299 -0.019353 -0.018526  0.005468 -0.005949 -0.008218 -0.130822  0.048574  \n",
      "41350 -0.016529 -0.017043  0.005630 -0.006123 -0.009585 -0.080565  1.605661  \n",
      "38703 -0.017503 -0.017569  0.005635 -0.006121 -0.009775 -0.044745  1.605661  \n",
      "12352 -0.016281 -0.016796  0.005640 -0.006135 -0.009890  0.001978 -0.729970  \n",
      "24962 -0.017727 -0.018059  0.005619 -0.006111 -0.009945  0.043006  0.048574  \n",
      "\n",
      "[32553 rows x 39 columns]\n"
     ]
    }
   ],
   "source": [
    "print (X_train_scaled)"
   ]
  },
  {
   "cell_type": "markdown",
   "id": "5aaf3dfd",
   "metadata": {},
   "source": [
    "## Create the Logistic Regression object "
   ]
  },
  {
   "cell_type": "code",
   "execution_count": 16,
   "id": "74a75885",
   "metadata": {},
   "outputs": [
    {
     "data": {
      "text/plain": [
       "LogisticRegression(max_iter=1000)"
      ]
     },
     "execution_count": 16,
     "metadata": {},
     "output_type": "execute_result"
    }
   ],
   "source": [
    "# create the regression object\n",
    "clf = LogisticRegression(max_iter=1000)\n",
    "# fit the scaled and training data\n",
    "clf.fit(X_train_scaled, y_train)"
   ]
  },
  {
   "cell_type": "code",
   "execution_count": 17,
   "id": "ae34a6e5",
   "metadata": {},
   "outputs": [],
   "source": [
    "# run the regression model\n",
    "y_te_pred = clf.predict(X_test_scaled)\n",
    "y_predict_training = clf.predict(X_train_scaled)"
   ]
  },
  {
   "cell_type": "markdown",
   "id": "5dced955",
   "metadata": {},
   "source": [
    "## Accuracy Scores"
   ]
  },
  {
   "cell_type": "code",
   "execution_count": 18,
   "id": "5b79bec3",
   "metadata": {},
   "outputs": [
    {
     "name": "stdout",
     "output_type": "stream",
     "text": [
      "\n",
      "\n",
      "[Test] Accuracy score: (y_test, y_te_pred) 0.9517139697751567\n",
      "\n",
      "\n",
      "[Training] Accuracy score: (y_train, y_predict_training) 0.9518631155346665\n"
     ]
    }
   ],
   "source": [
    "# print test accuracy\n",
    "print(\"\\n\")\n",
    "print(\"[Test] Accuracy score: (y_test, y_te_pred)\",accuracy_score(y_test, y_te_pred))\n",
    "\n",
    "# print training accuracy\n",
    "print(\"\\n\")\n",
    "print(\"[Training] Accuracy score: (y_train, y_predict_training)\",accuracy_score(y_train, y_predict_training))"
   ]
  },
  {
   "cell_type": "markdown",
   "id": "6b27836a",
   "metadata": {},
   "source": [
    "## Classification Report"
   ]
  },
  {
   "cell_type": "code",
   "execution_count": 19,
   "id": "8c655dd1",
   "metadata": {},
   "outputs": [
    {
     "name": "stdout",
     "output_type": "stream",
     "text": [
      "[Training Classification Report]\n",
      "              precision    recall  f1-score   support\n",
      "\n",
      "           0       0.95      1.00      0.98     30985\n",
      "           1       0.52      0.01      0.01      1568\n",
      "\n",
      "    accuracy                           0.95     32553\n",
      "   macro avg       0.74      0.50      0.49     32553\n",
      "weighted avg       0.93      0.95      0.93     32553\n",
      "\n",
      "[Test Classification Report]\n",
      "              precision    recall  f1-score   support\n",
      "\n",
      "           0       0.95      1.00      0.98     10329\n",
      "           1       0.44      0.01      0.02       523\n",
      "\n",
      "    accuracy                           0.95     10852\n",
      "   macro avg       0.70      0.50      0.50     10852\n",
      "weighted avg       0.93      0.95      0.93     10852\n",
      "\n"
     ]
    }
   ],
   "source": [
    "# print classification scores  0 is non bankrupt entities 1 is bankrupt entitiies\n",
    "print(\"[Training Classification Report]\")\n",
    "print(classification_report(y_train, y_predict_training))\n",
    "\n",
    "print(\"[Test Classification Report]\")\n",
    "print(classification_report(y_test, y_te_pred))"
   ]
  },
  {
   "cell_type": "markdown",
   "id": "3bc488f2",
   "metadata": {},
   "source": [
    "The overall accuracy score is .95 due to the the size of the non bankrupt entities. The logistic regression model predicts the non bankrupt entities very well but the does not do as well with the banrkrupt entities at .54 for the training data and fares worse on the test data at .44."
   ]
  },
  {
   "cell_type": "markdown",
   "id": "af08b913",
   "metadata": {},
   "source": [
    "## Save train test split\n"
   ]
  },
  {
   "cell_type": "code",
   "execution_count": 20,
   "id": "1da0c4da",
   "metadata": {},
   "outputs": [],
   "source": [
    "#save test and train dataframes to file\n",
    "X_train_scaled.to_csv('X_train_scaled.csv', index = True)\n",
    "X_test_scaled.to_csv('X_test_scaled.csv', index = True)\n",
    "y_train.to_csv('y_train.csv', index = True)\n",
    "y_test.to_csv('y_test.csv', index = True)"
   ]
  },
  {
   "cell_type": "markdown",
   "id": "d79c1c75",
   "metadata": {},
   "source": [
    "## Summary and further steps\n"
   ]
  },
  {
   "cell_type": "markdown",
   "id": "e9054d5e",
   "metadata": {},
   "source": [
    "In the pre-processing step, I imputed the missing values, removed redundant correlation pairs and created the final feature dataframe. Then I created the train test split, scaled the data and trained the logistic regression model. Finally I checked the accuracy scores and classification report. The logistic regression model predicted the non bankrupt entities with 95% accuracy but only 54% for the training data and slightly worst for the test data at 44%. In the modeling step I will explore other models and apply resampling to evaluate the results. Lastly, I evaluate performance metrics and identify the best performing model."
   ]
  }
 ],
 "metadata": {
  "kernelspec": {
   "display_name": "Python 3",
   "language": "python",
   "name": "python3"
  },
  "language_info": {
   "codemirror_mode": {
    "name": "ipython",
    "version": 3
   },
   "file_extension": ".py",
   "mimetype": "text/x-python",
   "name": "python",
   "nbconvert_exporter": "python",
   "pygments_lexer": "ipython3",
   "version": "3.7.6"
  }
 },
 "nbformat": 4,
 "nbformat_minor": 5
}
