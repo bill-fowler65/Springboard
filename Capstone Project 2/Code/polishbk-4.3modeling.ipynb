{
 "cells": [
  {
   "cell_type": "markdown",
   "id": "7d067062",
   "metadata": {},
   "source": [
    "# Capstone 2"
   ]
  },
  {
   "cell_type": "markdown",
   "id": "79461eba",
   "metadata": {},
   "source": [
    "## Polish Bankruptcy"
   ]
  },
  {
   "cell_type": "markdown",
   "id": "725ccd8d",
   "metadata": {},
   "source": [
    "## Modeling"
   ]
  },
  {
   "cell_type": "markdown",
   "id": "5a884ae8",
   "metadata": {},
   "source": [
    "In the pre-processing notebook, the logistic regression had high accuracy in predicting bankruptcy but resulted in very low recall.  In this notebook, I will apply resampling techniques to improve recall.  I will use both oversampling the minority class and undersampling the majority class on the logistic regression model and apply two other models with and without both resampling methods.  I will then compare the results from the classification reports for each process and evaluate the results. "
   ]
  },
  {
   "cell_type": "markdown",
   "id": "359411ae",
   "metadata": {},
   "source": [
    "## Import Statements"
   ]
  },
  {
   "cell_type": "code",
   "execution_count": null,
   "id": "b3e79c00",
   "metadata": {},
   "outputs": [],
   "source": [
    "#import all needed packages\n",
    "\n",
    "import pandas as pd\n",
    "import numpy as np\n",
    "import os\n",
    "\n",
    "from imblearn.under_sampling import RandomUnderSampler\n",
    "from sklearn.ensemble import RandomForestClassifier\n",
    "from xgboost import XGBClassifier\n",
    "from sklearn.metrics import accuracy_score\n",
    "import matplotlib.pyplot as plt\n",
    "from sklearn.linear_model import LogisticRegression\n",
    "from sklearn import __version__ as sklearn_version\n",
    "from sklearn.model_selection import GridSearchCV\n",
    "from sklearn.model_selection import cross_validate\n",
    "from sklearn.metrics import classification_report\n",
    "from imblearn.over_sampling import SMOTE"
   ]
  },
  {
   "cell_type": "markdown",
   "id": "0d2f5cd8",
   "metadata": {},
   "source": [
    "## Load Data"
   ]
  },
  {
   "cell_type": "code",
   "execution_count": null,
   "id": "01ccede4",
   "metadata": {},
   "outputs": [],
   "source": [
    "# load the train test files from disk\n",
    "filename = 'X_train_scaled.csv'\n",
    "X_train = pd.read_csv('X_train_scaled.csv', index_col=0)\n",
    "X_test = pd.read_csv('X_test_scaled.csv', index_col=0)\n",
    "y_train = pd.read_csv('y_train.csv', index_col=0)\n",
    "y_test = pd.read_csv('y_test.csv', index_col=0)"
   ]
  },
  {
   "cell_type": "markdown",
   "id": "3a7b2aef",
   "metadata": {},
   "source": [
    "## Oversample data with SMOTE"
   ]
  },
  {
   "cell_type": "code",
   "execution_count": null,
   "id": "97f11002",
   "metadata": {},
   "outputs": [],
   "source": [
    "smote_resamp = SMOTE(sampling_strategy='minority')\n",
    "X_train_resamp, y_train_resamp = smote_resamp.fit_resample(X_train, y_train)"
   ]
  },
  {
   "cell_type": "markdown",
   "id": "d3eb60ba",
   "metadata": {},
   "source": [
    "## Undersample data with Random undersample"
   ]
  },
  {
   "cell_type": "code",
   "execution_count": null,
   "id": "b4ab2d2d",
   "metadata": {},
   "outputs": [],
   "source": [
    "rus = RandomUnderSampler()\n",
    "X_train_rus, y_train_rus = rus.fit_resample(X_train, y_train)"
   ]
  },
  {
   "cell_type": "markdown",
   "id": "6e43ee6f",
   "metadata": {},
   "source": [
    "## View Train Test Data"
   ]
  },
  {
   "cell_type": "code",
   "execution_count": null,
   "id": "3b610a91",
   "metadata": {},
   "outputs": [],
   "source": [
    "#print scaled data\n",
    "print(X_train)"
   ]
  },
  {
   "cell_type": "code",
   "execution_count": null,
   "id": "ad76edfb",
   "metadata": {},
   "outputs": [],
   "source": [
    "print(X_train_resamp)"
   ]
  },
  {
   "cell_type": "code",
   "execution_count": null,
   "id": "39fa892a",
   "metadata": {},
   "outputs": [],
   "source": [
    "print(X_train_rus)"
   ]
  },
  {
   "cell_type": "code",
   "execution_count": null,
   "id": "80cdd1e3",
   "metadata": {},
   "outputs": [],
   "source": [
    "#print scaled test data\n",
    "print(X_test)"
   ]
  },
  {
   "cell_type": "code",
   "execution_count": null,
   "id": "f09ef742",
   "metadata": {},
   "outputs": [],
   "source": [
    "#print y train data\n",
    "print(y_train)"
   ]
  },
  {
   "cell_type": "code",
   "execution_count": null,
   "id": "9c3e157d",
   "metadata": {},
   "outputs": [],
   "source": [
    "print(y_train_resamp)"
   ]
  },
  {
   "cell_type": "code",
   "execution_count": null,
   "id": "8c014307",
   "metadata": {},
   "outputs": [],
   "source": [
    "print(y_train_rus)"
   ]
  },
  {
   "cell_type": "code",
   "execution_count": null,
   "id": "c9febacb",
   "metadata": {},
   "outputs": [],
   "source": [
    "#print y test data\n",
    "print(y_test)"
   ]
  },
  {
   "cell_type": "markdown",
   "id": "5ecbc3c9",
   "metadata": {},
   "source": [
    "## Create Logistic Regression object"
   ]
  },
  {
   "cell_type": "code",
   "execution_count": null,
   "id": "f0861275",
   "metadata": {},
   "outputs": [],
   "source": [
    "# create the regression object\n",
    "clf1 = LogisticRegression(max_iter=1000)\n",
    "# fit the scaled and training data\n",
    "clf1.fit(X_train, y_train.values.ravel())"
   ]
  },
  {
   "cell_type": "code",
   "execution_count": null,
   "id": "70c2795e",
   "metadata": {},
   "outputs": [],
   "source": [
    "# run the regression model\n",
    "y_test_pred_lr1 = clf1.predict(X_test)\n",
    "y_train_pred_lr1 = clf1.predict(X_train)"
   ]
  },
  {
   "cell_type": "markdown",
   "id": "a7ae903f",
   "metadata": {},
   "source": [
    "## Print Logistic Accuracy"
   ]
  },
  {
   "cell_type": "code",
   "execution_count": null,
   "id": "e5e788bb",
   "metadata": {},
   "outputs": [],
   "source": [
    "# print test accuracy\n",
    "print(\"\\n\")\n",
    "print(\"[Test] Accuracy score: (y_test, y_test_pred_lr1)\",accuracy_score(y_test, y_test_pred_lr1))\n",
    "\n",
    "# print training accuracy\n",
    "print(\"\\n\")\n",
    "print(\"[Training] Accuracy score: (y_train, y_train_pred_lr1)\",accuracy_score(y_train, y_train_pred_lr1))"
   ]
  },
  {
   "cell_type": "markdown",
   "id": "795e8baf",
   "metadata": {},
   "source": [
    "## Print Logistic Classification"
   ]
  },
  {
   "cell_type": "code",
   "execution_count": null,
   "id": "380a0198",
   "metadata": {},
   "outputs": [],
   "source": [
    "# print classification scores  0 is non bankrupt entities 1 is bankrupt entitiies\n",
    "print(\"[Training Classification Report]\")\n",
    "print(classification_report(y_train, y_train_pred_lr1))\n",
    "\n",
    "print(\"[Test Classification Report]\")\n",
    "print(classification_report(y_test, y_test_pred_lr1))"
   ]
  },
  {
   "cell_type": "markdown",
   "id": "1bbeb3a3",
   "metadata": {},
   "source": [
    "## Logistic Regression on Oversampled data"
   ]
  },
  {
   "cell_type": "code",
   "execution_count": null,
   "id": "4c633f2f",
   "metadata": {},
   "outputs": [],
   "source": [
    "clf2 = LogisticRegression(max_iter=1000)\n",
    "# fit the scaled and training data\n",
    "clf2.fit(X_train_resamp, y_train_resamp.values.ravel())"
   ]
  },
  {
   "cell_type": "code",
   "execution_count": null,
   "id": "e7643e37",
   "metadata": {},
   "outputs": [],
   "source": [
    "y_test_pred_lr2 = clf2.predict(X_test)\n",
    "y_train_pred_lr2 = clf2.predict(X_train_resamp)"
   ]
  },
  {
   "cell_type": "markdown",
   "id": "a2c4e6e0",
   "metadata": {},
   "source": [
    "## Accuracy of Oversampled data"
   ]
  },
  {
   "cell_type": "code",
   "execution_count": null,
   "id": "d1f12ae4",
   "metadata": {},
   "outputs": [],
   "source": [
    "# print test accuracy\n",
    "print(\"\\n\")\n",
    "print(\"[Test] Accuracy score: (y_test, y_test_pred_lr2)\",accuracy_score(y_test, y_test_pred_lr2))"
   ]
  },
  {
   "cell_type": "markdown",
   "id": "8c5bac92",
   "metadata": {},
   "source": [
    "## Classification Report of Oversampled data"
   ]
  },
  {
   "cell_type": "code",
   "execution_count": null,
   "id": "93a34416",
   "metadata": {},
   "outputs": [],
   "source": [
    "# print classification scores  0 is non bankrupt entities 1 is bankrupt entitiies\n",
    "print(\"[Test Classification Report]\")\n",
    "print(classification_report(y_test, y_test_pred_lr2))"
   ]
  },
  {
   "cell_type": "markdown",
   "id": "bba099e6",
   "metadata": {},
   "source": [
    "## Logistic Regression of Undersampled data"
   ]
  },
  {
   "cell_type": "code",
   "execution_count": null,
   "id": "290fd938",
   "metadata": {},
   "outputs": [],
   "source": [
    "clf3 = LogisticRegression(max_iter=1000)\n",
    "# fit the scaled and training data\n",
    "clf3.fit(X_train_rus, y_train_rus.values.ravel())"
   ]
  },
  {
   "cell_type": "code",
   "execution_count": null,
   "id": "73c67b99",
   "metadata": {},
   "outputs": [],
   "source": [
    "y_test_pred_lr3 = clf3.predict(X_test)\n",
    "y_train_pred_lr3 = clf3.predict(X_train_rus)"
   ]
  },
  {
   "cell_type": "markdown",
   "id": "69e58506",
   "metadata": {},
   "source": [
    "## Accuracy of Undersampled data"
   ]
  },
  {
   "cell_type": "code",
   "execution_count": null,
   "id": "4115990c",
   "metadata": {},
   "outputs": [],
   "source": [
    "# print test accuracy\n",
    "print(\"\\n\")\n",
    "print(\"[Test] Accuracy score: (y_test, y_test_pred_lr3)\",accuracy_score(y_test, y_test_pred_lr3))"
   ]
  },
  {
   "cell_type": "markdown",
   "id": "ec2f9dd8",
   "metadata": {},
   "source": [
    "## Classification Report of Undersampled data"
   ]
  },
  {
   "cell_type": "code",
   "execution_count": null,
   "id": "872d14cc",
   "metadata": {},
   "outputs": [],
   "source": [
    "print(\"[Test Classification Report]\")\n",
    "print(classification_report(y_test, y_test_pred_lr3))"
   ]
  },
  {
   "cell_type": "markdown",
   "id": "9e69ab8d",
   "metadata": {},
   "source": [
    "## Create XGB Object"
   ]
  },
  {
   "cell_type": "code",
   "execution_count": null,
   "id": "ed84919c",
   "metadata": {},
   "outputs": [],
   "source": [
    "xgb1 = XGBClassifier()\n",
    "xgb1.fit(X_train, y_train.values.ravel())\n",
    "\n",
    "y_test_pred_xgb1 = xgb1.predict(X_test)\n",
    "y_train_pred_xgb1 = xgb1.predict(X_train)"
   ]
  },
  {
   "cell_type": "markdown",
   "id": "1b260471",
   "metadata": {},
   "source": [
    "## Print XGB Accuracy"
   ]
  },
  {
   "cell_type": "code",
   "execution_count": null,
   "id": "8e696a80",
   "metadata": {},
   "outputs": [],
   "source": [
    "accuracy = accuracy_score(y_test, y_test_pred_xgb1)\n",
    "print(\"Accuracy: %.2f%%\" % (accuracy * 100.0))"
   ]
  },
  {
   "cell_type": "markdown",
   "id": "dac270b7",
   "metadata": {},
   "source": [
    "##  Print XGB Classification Report"
   ]
  },
  {
   "cell_type": "code",
   "execution_count": null,
   "id": "0eec4177",
   "metadata": {},
   "outputs": [],
   "source": [
    "# print classification scores  0 is non bankrupt entities 1 is bankrupt entitiies\n",
    "print(\"[Training Classification Report]\")\n",
    "print(classification_report(y_train, y_train_pred_xgb1))\n",
    "\n",
    "print(\"[Test Classification Report]\")\n",
    "print(classification_report(y_test, y_test_pred_xgb1))"
   ]
  },
  {
   "cell_type": "markdown",
   "id": "2e80da46",
   "metadata": {},
   "source": [
    "## XGB object with Oversampled data"
   ]
  },
  {
   "cell_type": "code",
   "execution_count": null,
   "id": "25d623ef",
   "metadata": {},
   "outputs": [],
   "source": [
    "xgb2 = XGBClassifier()\n",
    "xgb2.fit(X_train_resamp, y_train_resamp.values.ravel())\n",
    "\n",
    "y_test_pred_xgb2 = xgb2.predict(X_test)\n",
    "y_train_pred_xgb2 = xgb2.predict(X_train_resamp)"
   ]
  },
  {
   "cell_type": "markdown",
   "id": "dca33b51",
   "metadata": {},
   "source": [
    "## XGB Accuracy with Oversampled data"
   ]
  },
  {
   "cell_type": "code",
   "execution_count": null,
   "id": "8d7cb569",
   "metadata": {},
   "outputs": [],
   "source": [
    "accuracy = accuracy_score(y_test, y_test_pred_xgb2)\n",
    "print(\"Accuracy: %.2f%%\" % (accuracy * 100.0))"
   ]
  },
  {
   "cell_type": "markdown",
   "id": "1c01a69b",
   "metadata": {},
   "source": [
    "## XGB Classification report of Oversampled data"
   ]
  },
  {
   "cell_type": "code",
   "execution_count": null,
   "id": "f7bba2ae",
   "metadata": {},
   "outputs": [],
   "source": [
    "print(\"[Test Classification Report]\")\n",
    "print(classification_report(y_test, y_test_pred_xgb2))"
   ]
  },
  {
   "cell_type": "markdown",
   "id": "a9012abf",
   "metadata": {},
   "source": [
    "## XGB Object with Undersampled data "
   ]
  },
  {
   "cell_type": "code",
   "execution_count": null,
   "id": "c7c39da5",
   "metadata": {},
   "outputs": [],
   "source": [
    "xgb3 = XGBClassifier()\n",
    "# fit the scaled and training data\n",
    "xgb3.fit(X_train_rus, y_train_rus.values.ravel())"
   ]
  },
  {
   "cell_type": "code",
   "execution_count": null,
   "id": "881723fb",
   "metadata": {},
   "outputs": [],
   "source": [
    "y_test_pred_xgb3 = xgb3.predict(X_test)\n",
    "y_train_pred_xgb3 = xgb3.predict(X_train_rus)"
   ]
  },
  {
   "cell_type": "markdown",
   "id": "3ae23107",
   "metadata": {},
   "source": [
    "## XGB Accuracy with Undersampled data"
   ]
  },
  {
   "cell_type": "code",
   "execution_count": null,
   "id": "fa60e251",
   "metadata": {},
   "outputs": [],
   "source": [
    "# print test accuracy\n",
    "print(\"\\n\")\n",
    "print(\"[Test] Accuracy score: (y_test, y_test_pred_xgb3)\",accuracy_score(y_test, y_test_pred_xgb3))"
   ]
  },
  {
   "cell_type": "markdown",
   "id": "7e136473",
   "metadata": {},
   "source": [
    "## Accuracy report with Undersampled data"
   ]
  },
  {
   "cell_type": "code",
   "execution_count": null,
   "id": "fb6f8fbd",
   "metadata": {},
   "outputs": [],
   "source": [
    "print(\"[Test Classification Report]\")\n",
    "print(classification_report(y_test, y_test_pred_xgb3))"
   ]
  },
  {
   "cell_type": "markdown",
   "id": "3f40f790",
   "metadata": {},
   "source": [
    "## Create Random Forest object"
   ]
  },
  {
   "cell_type": "code",
   "execution_count": null,
   "id": "0fbfde96",
   "metadata": {},
   "outputs": [],
   "source": [
    "rfc1 = RandomForestClassifier(n_estimators=100)\n",
    "rfc1.fit(X_train, y_train.values.ravel())\n",
    "\n",
    "y_test_pred_rfc1 = rfc1.predict(X_test)\n",
    "y_train_pred_rfc1 = rfc1.predict(X_train)"
   ]
  },
  {
   "cell_type": "markdown",
   "id": "abfa4659",
   "metadata": {},
   "source": [
    "## Random Forest Accuracy"
   ]
  },
  {
   "cell_type": "code",
   "execution_count": null,
   "id": "1f756c78",
   "metadata": {},
   "outputs": [],
   "source": [
    "accuracy = accuracy_score(y_test, y_test_pred_rfc1)\n",
    "print(\"Accuracy: %.2f%%\" % (accuracy * 100.0))"
   ]
  },
  {
   "cell_type": "markdown",
   "id": "24337cf9",
   "metadata": {},
   "source": [
    "## Random Forest Classification Report"
   ]
  },
  {
   "cell_type": "code",
   "execution_count": null,
   "id": "7d37f3f2",
   "metadata": {},
   "outputs": [],
   "source": [
    "# print classification scores  0 is non bankrupt entities 1 is bankrupt entitiies\n",
    "print(\"[Test Classification Report]\")\n",
    "print(classification_report(y_test, y_test_pred_rfc1))"
   ]
  },
  {
   "cell_type": "markdown",
   "id": "d31e8121",
   "metadata": {},
   "source": [
    "## Random Forest with Oversampling"
   ]
  },
  {
   "cell_type": "code",
   "execution_count": null,
   "id": "822458fd",
   "metadata": {},
   "outputs": [],
   "source": [
    "rfc2 = RandomForestClassifier(n_estimators=100)\n",
    "# fit the scaled and training data\n",
    "rfc2.fit(X_train_resamp, y_train_resamp.values.ravel())\n",
    "\n",
    "y_test_pred_rfc2 = rfc2.predict(X_test)\n",
    "y_train_pred_rfc2 = rfc2.predict(X_train_resamp)"
   ]
  },
  {
   "cell_type": "markdown",
   "id": "5b991611",
   "metadata": {},
   "source": [
    "## Random Forest Accuracy with Oversampling"
   ]
  },
  {
   "cell_type": "code",
   "execution_count": null,
   "id": "b9c601bb",
   "metadata": {},
   "outputs": [],
   "source": [
    "accuracy = accuracy_score(y_test, y_test_pred_rfc2)\n",
    "print(\"Accuracy: %.2f%%\" % (accuracy * 100.0))"
   ]
  },
  {
   "cell_type": "markdown",
   "id": "99277a0c",
   "metadata": {},
   "source": [
    "## Classification Report with Oversampling "
   ]
  },
  {
   "cell_type": "code",
   "execution_count": null,
   "id": "0a2fab38",
   "metadata": {},
   "outputs": [],
   "source": [
    "# print classification scores  0 is non bankrupt entities 1 is bankrupt entitiies\n",
    "print(\"[Test Classification Report]\")\n",
    "print(classification_report(y_test, y_test_pred_rfc2))"
   ]
  },
  {
   "cell_type": "markdown",
   "id": "179b5644",
   "metadata": {},
   "source": [
    "## Random Forest object with Undersampling"
   ]
  },
  {
   "cell_type": "code",
   "execution_count": null,
   "id": "d2a381d3",
   "metadata": {},
   "outputs": [],
   "source": [
    "rfc3 = RandomForestClassifier(n_estimators=100)\n",
    "# fit the scaled and training data\n",
    "rfc3.fit(X_train_rus, y_train_rus.values.ravel())"
   ]
  },
  {
   "cell_type": "code",
   "execution_count": null,
   "id": "1a333ad9",
   "metadata": {},
   "outputs": [],
   "source": [
    "y_test_pred_rfc3 = rfc3.predict(X_test)\n",
    "y_train_pred_rfc3 = rfc3.predict(X_train_rus)"
   ]
  },
  {
   "cell_type": "markdown",
   "id": "5319cd81",
   "metadata": {},
   "source": [
    "## Random Forest Accuracy with Undersampling"
   ]
  },
  {
   "cell_type": "code",
   "execution_count": null,
   "id": "e9e9e6ad",
   "metadata": {},
   "outputs": [],
   "source": [
    "accuracy = accuracy_score(y_test, y_test_pred_rfc3)\n",
    "print(\"Accuracy: %.2f%%\" % (accuracy * 100.0))"
   ]
  },
  {
   "cell_type": "markdown",
   "id": "fc2ee5ca",
   "metadata": {},
   "source": [
    "## Classification Report with Undersampling"
   ]
  },
  {
   "cell_type": "code",
   "execution_count": null,
   "id": "1c67b83f",
   "metadata": {},
   "outputs": [],
   "source": [
    "# print classification scores  0 is non bankrupt entities 1 is bankrupt entitiies\n",
    "print(\"[Test Classification Report]\")\n",
    "print(classification_report(y_test, y_test_pred_rfc3))"
   ]
  },
  {
   "cell_type": "markdown",
   "id": "b2c2077a",
   "metadata": {},
   "source": [
    "## Testing Data Classification Summary"
   ]
  },
  {
   "cell_type": "raw",
   "id": "b32cb060",
   "metadata": {},
   "source": [
    "                                   precision    recall  \n",
    "_______________________________________________________\n",
    "Logistic Regression          0    |   0.95   |  1.00\n",
    "                             1    |   0.40   |  0.01\n",
    "__________________________________|__________|________\n",
    "Logistic Regression          0    |   0.97   |  0.69\n",
    "with Oversampling            1    |   0.09   |  0.63\n",
    "__________________________________|__________|________\n",
    "Logistic Regression          0    |   0.97   |  0.72\n",
    "with Undersampling           1    |   0.10   |  0.60\n",
    "__________________________________|__________|________\n",
    "XGB                          0    |   0.96   |  0.99\n",
    "                             1    |   0.62   |  0.22\n",
    "__________________________________|__________|________\n",
    "XGB with Oversampling        0    |   0.98   |  0.94\n",
    "                             1    |   0.32   |  0.59 \n",
    "__________________________________|__________|________\n",
    "XGB with Undersampling       0    |   0.99   |   0.77 \n",
    "                             1    |   0.15   |   0.79\n",
    "__________________________________|__________|________                              \n",
    "Random Forest                0    |   0.95   |   0.99 \n",
    "                             1    |   0.36   |   0.07    \n",
    "__________________________________|__________|________\n",
    "Random Forest                0    |   0.97   |   0.95\n",
    "with Oversampling            1    |   0.30   |   0.38\n",
    "__________________________________|__________|________\n",
    "Rqndom Forest                0    |   0.99   |   0.74 \n",
    "with Undersampling           1    |   0.13   |   0.79\n"
   ]
  },
  {
   "cell_type": "markdown",
   "id": "0347b670",
   "metadata": {},
   "source": [
    "## Random Forest Hyperparameter Tuning"
   ]
  },
  {
   "cell_type": "code",
   "execution_count": null,
   "id": "0e0a10d8",
   "metadata": {},
   "outputs": [],
   "source": [
    "param_grid = { \n",
    "    'n_estimators': [200, 500],\n",
    "    'max_features': ['auto', 'sqrt', 'log2'],\n",
    "    'max_depth' : [4,5,6,7,8],\n",
    "    'criterion' :['gini', 'entropy']\n",
    "}\n",
    "\n",
    "\n",
    "\n",
    "rfc4 = RandomForestClassifier()\n",
    "#rfc1.fit(X_train, y_train.values.ravel())\n",
    "\n",
    "#y_test_pred_rfc1 = rfc1.predict(X_test)\n",
    "#y_train_pred_rfc1 = rfc1.predict(X_train)"
   ]
  },
  {
   "cell_type": "code",
   "execution_count": null,
   "id": "1e9ec50c",
   "metadata": {},
   "outputs": [],
   "source": [
    "#\n",
    "CV_rfc4 = GridSearchCV(estimator=rfc4, param_grid=param_grid, cv= 5)\n",
    "CV_rfc4.fit(X_train, y_train.values.ravel())"
   ]
  },
  {
   "cell_type": "code",
   "execution_count": null,
   "id": "681bd072",
   "metadata": {},
   "outputs": [],
   "source": [
    "#CV_rfc4.best_params_"
   ]
  },
  {
   "cell_type": "code",
   "execution_count": null,
   "id": "0e6572af",
   "metadata": {},
   "outputs": [],
   "source": [
    "#rfc4=RandomForestClassifier(random_state=42, max_features='auto', n_estimators= 200, max_depth=8, criterion='gini')"
   ]
  },
  {
   "cell_type": "code",
   "execution_count": null,
   "id": "1bc12e82",
   "metadata": {},
   "outputs": [],
   "source": [
    "#rfc4.fit(X_train, y_train)"
   ]
  },
  {
   "cell_type": "code",
   "execution_count": null,
   "id": "3392e581",
   "metadata": {},
   "outputs": [],
   "source": [
    "#pred=rfc1.predict(X_test)"
   ]
  },
  {
   "cell_type": "code",
   "execution_count": null,
   "id": "f0371011",
   "metadata": {},
   "outputs": [],
   "source": []
  },
  {
   "cell_type": "markdown",
   "id": "3ca7dbdf",
   "metadata": {},
   "source": [
    "## Random Forest Classification"
   ]
  },
  {
   "cell_type": "code",
   "execution_count": null,
   "id": "255d7649",
   "metadata": {},
   "outputs": [],
   "source": []
  },
  {
   "cell_type": "markdown",
   "id": "cffb383d",
   "metadata": {},
   "source": [
    "## XGBoost Hyperparameter Tuning"
   ]
  },
  {
   "cell_type": "code",
   "execution_count": null,
   "id": "03dc0154",
   "metadata": {},
   "outputs": [],
   "source": [
    "#params = {\n",
    "#    # Parameters that we are going to tune.\n",
    "#    'max_depth':6,\n",
    "#    'min_child_weight': 1,\n",
    "#    'eta':.3,\n",
    "#    'subsample': 1,\n",
    "#    'colsample_bytree': 1,\n",
    "#    # Other parameters\n",
    "#    'objective':'reg:linear',\n",
    "#}"
   ]
  },
  {
   "cell_type": "code",
   "execution_count": null,
   "id": "3124994d",
   "metadata": {},
   "outputs": [],
   "source": []
  },
  {
   "cell_type": "code",
   "execution_count": null,
   "id": "cc4b9077",
   "metadata": {},
   "outputs": [],
   "source": []
  },
  {
   "cell_type": "code",
   "execution_count": null,
   "id": "6cbbd18e",
   "metadata": {},
   "outputs": [],
   "source": []
  },
  {
   "cell_type": "code",
   "execution_count": null,
   "id": "61552ddc",
   "metadata": {},
   "outputs": [],
   "source": []
  },
  {
   "cell_type": "code",
   "execution_count": null,
   "id": "23b4804a",
   "metadata": {},
   "outputs": [],
   "source": [
    "#classifier = xgb.sklearn.XGBClassifier(nthread=-1, seed=42)"
   ]
  },
  {
   "cell_type": "code",
   "execution_count": null,
   "id": "43ba7e58",
   "metadata": {},
   "outputs": [],
   "source": [
    "#classifier = xgb.sklearn.XGBClassifier(nthread=-1, seed=42)"
   ]
  },
  {
   "cell_type": "code",
   "execution_count": null,
   "id": "f84883de",
   "metadata": {},
   "outputs": [],
   "source": []
  },
  {
   "cell_type": "markdown",
   "id": "7ccc74dc",
   "metadata": {},
   "source": [
    "## Feature Importance"
   ]
  },
  {
   "cell_type": "code",
   "execution_count": null,
   "id": "70116475",
   "metadata": {},
   "outputs": [],
   "source": [
    "#plt.figure(figsize=(20,15))\n",
    "#xgb.plot_importance(classifier, ax=plt.gca())"
   ]
  }
 ],
 "metadata": {
  "kernelspec": {
   "display_name": "Python 3",
   "language": "python",
   "name": "python3"
  },
  "language_info": {
   "codemirror_mode": {
    "name": "ipython",
    "version": 3
   },
   "file_extension": ".py",
   "mimetype": "text/x-python",
   "name": "python",
   "nbconvert_exporter": "python",
   "pygments_lexer": "ipython3",
   "version": "3.7.6"
  }
 },
 "nbformat": 4,
 "nbformat_minor": 5
}
