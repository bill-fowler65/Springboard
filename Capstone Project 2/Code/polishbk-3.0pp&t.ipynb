{
 "cells": [
  {
   "cell_type": "markdown",
   "id": "e9b9af03",
   "metadata": {},
   "source": [
    "# Capstone 2"
   ]
  },
  {
   "cell_type": "markdown",
   "id": "fba1dd20",
   "metadata": {},
   "source": [
    "## Polish Bankruptcy"
   ]
  },
  {
   "cell_type": "markdown",
   "id": "571dad5a",
   "metadata": {},
   "source": [
    "## Pre-processing and Training"
   ]
  },
  {
   "cell_type": "markdown",
   "id": "1dfa3a73",
   "metadata": {},
   "source": [
    "In the pre-processing step I will impute the missing values and from the data, drop redundent high correlation variables from the dataset, complete a stratified train test split and and investigate scaling the training data.  Because of the high amount of skewed data the possibility of transforming the data may need to be done after the initial models.  "
   ]
  },
  {
   "cell_type": "markdown",
   "id": "0d6b0a39",
   "metadata": {},
   "source": [
    "## Import Statements"
   ]
  },
  {
   "cell_type": "code",
   "execution_count": 1,
   "id": "573e8927",
   "metadata": {},
   "outputs": [],
   "source": [
    "import pandas as pd\n",
    "import numpy as np\n",
    "import os\n",
    "import matplotlib.pyplot as plt\n",
    "import seaborn as sns\n",
    "from sklearn.decomposition import PCA\n",
    "from sklearn.preprocessing import scale\n",
    "\n",
    "from sklearn.model_selection import train_test_split\n",
    "from sklearn.linear_model import LogisticRegression\n",
    "from sklearn.metrics import accuracy_score\n",
    "from sklearn.linear_model import LinearRegression"
   ]
  },
  {
   "cell_type": "markdown",
   "id": "9c7fbdfd",
   "metadata": {},
   "source": [
    "## Load Data"
   ]
  },
  {
   "cell_type": "code",
   "execution_count": 2,
   "id": "46121cb7",
   "metadata": {},
   "outputs": [
    {
     "name": "stdout",
     "output_type": "stream",
     "text": [
      "<class 'pandas.core.frame.DataFrame'>\n",
      "RangeIndex: 111 entries, 0 to 110\n",
      "Data columns (total 3 columns):\n",
      " #   Column       Non-Null Count  Dtype  \n",
      "---  ------       --------------  -----  \n",
      " 0   Feature1     111 non-null    object \n",
      " 1   Feature2     111 non-null    object \n",
      " 2   Correlation  111 non-null    float64\n",
      "dtypes: float64(1), object(2)\n",
      "memory usage: 2.7+ KB\n",
      "None\n"
     ]
    }
   ],
   "source": [
    "#load bankruptcy data and column key data\n",
    "bankruptcy_data = pd.read_csv('bankruptcy_data_comb.csv')\n",
    "data_columns = pd.read_csv('column_key.csv')\n",
    "\n",
    "#load high correlation dataframe\n",
    "dataCorrhigh = pd.read_csv('dataCorrhigh.csv')\n",
    "\n",
    "#display high correlation pairs dataframe\n",
    "print(dataCorrhigh.info())"
   ]
  },
  {
   "cell_type": "markdown",
   "id": "4917aaaa",
   "metadata": {},
   "source": [
    "## Impute missing data"
   ]
  },
  {
   "cell_type": "markdown",
   "id": "2178b09d",
   "metadata": {},
   "source": [
    "Based of the distribution of data and the number of outliers, I have made the decsion to imput the missing values based on the median of each column."
   ]
  },
  {
   "cell_type": "code",
   "execution_count": 3,
   "id": "2aa4bad4",
   "metadata": {},
   "outputs": [
    {
     "name": "stdout",
     "output_type": "stream",
     "text": [
      "<class 'pandas.core.frame.DataFrame'>\n",
      "RangeIndex: 43405 entries, 0 to 43404\n",
      "Data columns (total 66 columns):\n",
      " #   Column  Non-Null Count  Dtype  \n",
      "---  ------  --------------  -----  \n",
      " 0   X01     43405 non-null  float64\n",
      " 1   X02     43405 non-null  float64\n",
      " 2   X03     43405 non-null  float64\n",
      " 3   X04     43405 non-null  float64\n",
      " 4   X05     43405 non-null  float64\n",
      " 5   X06     43405 non-null  float64\n",
      " 6   X07     43405 non-null  float64\n",
      " 7   X08     43405 non-null  float64\n",
      " 8   X09     43405 non-null  float64\n",
      " 9   X10     43405 non-null  float64\n",
      " 10  X11     43405 non-null  float64\n",
      " 11  X12     43405 non-null  float64\n",
      " 12  X13     43405 non-null  float64\n",
      " 13  X14     43405 non-null  float64\n",
      " 14  X15     43405 non-null  float64\n",
      " 15  X16     43405 non-null  float64\n",
      " 16  X17     43405 non-null  float64\n",
      " 17  X18     43405 non-null  float64\n",
      " 18  X19     43405 non-null  float64\n",
      " 19  X20     43405 non-null  float64\n",
      " 20  X21     43405 non-null  float64\n",
      " 21  X22     43405 non-null  float64\n",
      " 22  X23     43405 non-null  float64\n",
      " 23  X24     43405 non-null  float64\n",
      " 24  X25     43405 non-null  float64\n",
      " 25  X26     43405 non-null  float64\n",
      " 26  X27     43405 non-null  float64\n",
      " 27  X28     43405 non-null  float64\n",
      " 28  X29     43405 non-null  float64\n",
      " 29  X30     43405 non-null  float64\n",
      " 30  X31     43405 non-null  float64\n",
      " 31  X32     43405 non-null  float64\n",
      " 32  X33     43405 non-null  float64\n",
      " 33  X34     43405 non-null  float64\n",
      " 34  X35     43405 non-null  float64\n",
      " 35  X36     43405 non-null  float64\n",
      " 36  X37     43405 non-null  float64\n",
      " 37  X38     43405 non-null  float64\n",
      " 38  X39     43405 non-null  float64\n",
      " 39  X40     43405 non-null  float64\n",
      " 40  X41     43405 non-null  float64\n",
      " 41  X42     43405 non-null  float64\n",
      " 42  X43     43405 non-null  float64\n",
      " 43  X44     43405 non-null  float64\n",
      " 44  X45     43405 non-null  float64\n",
      " 45  X46     43405 non-null  float64\n",
      " 46  X47     43405 non-null  float64\n",
      " 47  X48     43405 non-null  float64\n",
      " 48  X49     43405 non-null  float64\n",
      " 49  X50     43405 non-null  float64\n",
      " 50  X51     43405 non-null  float64\n",
      " 51  X52     43405 non-null  float64\n",
      " 52  X53     43405 non-null  float64\n",
      " 53  X54     43405 non-null  float64\n",
      " 54  X55     43405 non-null  float64\n",
      " 55  X56     43405 non-null  float64\n",
      " 56  X57     43405 non-null  float64\n",
      " 57  X58     43405 non-null  float64\n",
      " 58  X59     43405 non-null  float64\n",
      " 59  X60     43405 non-null  float64\n",
      " 60  X61     43405 non-null  float64\n",
      " 61  X62     43405 non-null  float64\n",
      " 62  X63     43405 non-null  float64\n",
      " 63  X64     43405 non-null  float64\n",
      " 64  Class   43405 non-null  int64  \n",
      " 65  Year    43405 non-null  int64  \n",
      "dtypes: float64(64), int64(2)\n",
      "memory usage: 21.9 MB\n"
     ]
    }
   ],
   "source": [
    "#create new dataframe by imputing missing values with the median\n",
    "bankruptcy_complete = bankruptcy_data.apply(lambda x: x.fillna(x.median()),axis=0)\n",
    "\n",
    "#display complete dataframe\n",
    "bankruptcy_complete.info()"
   ]
  },
  {
   "cell_type": "markdown",
   "id": "4bb2ae63",
   "metadata": {},
   "source": [
    "## Drop redundant high correlation  columns\n"
   ]
  },
  {
   "cell_type": "code",
   "execution_count": 4,
   "id": "393c7d9b",
   "metadata": {},
   "outputs": [
    {
     "name": "stdout",
     "output_type": "stream",
     "text": [
      "   Feature1 Feature2  Correlation\n",
      "0       X56      X58     0.999976\n",
      "1       X04      X46     0.999920\n",
      "2       X20      X56     0.999880\n",
      "3       X17      X08     0.999588\n",
      "4       X23      X19     0.999290\n",
      "..      ...      ...          ...\n",
      "90      X07      X63     0.709315\n",
      "91      X14      X63     0.709315\n",
      "92      X44      X13     0.708622\n",
      "93      X13      X19     0.706408\n",
      "94      X63      X18     0.703221\n",
      "\n",
      "[95 rows x 3 columns]\n"
     ]
    }
   ],
   "source": [
    "# drop first row of correlation dataframe with correlation of 1.  Data is identical \n",
    "dataCorrhigh = dataCorrhigh.drop(dataCorrhigh.index[0]).reset_index(drop=True)\n",
    "\n",
    "#create empty final high correlation dataframe\n",
    "corr_high_final = pd.DataFrame(columns = dataCorrhigh.columns)\n",
    "\n",
    "# iterate over high correlation dataframe and check for redundant pairs\n",
    "for x in range(len(dataCorrhigh)-1):\n",
    "    if dataCorrhigh['Feature1'][x] != dataCorrhigh['Feature1'][x+1]:\n",
    "        corr_high_final = corr_high_final.append(dataCorrhigh.loc[x])\n",
    "    \n",
    "#add back last row to final dataframe and reset indexes\n",
    "corr_high_final = corr_high_final.append(dataCorrhigh.loc[len(dataCorrhigh)-1])\n",
    "corr_high_final = corr_high_final.reset_index(drop=True)\n",
    "\n",
    "print(corr_high_final)"
   ]
  },
  {
   "cell_type": "code",
   "execution_count": 5,
   "id": "8fd87ebc",
   "metadata": {},
   "outputs": [
    {
     "name": "stdout",
     "output_type": "stream",
     "text": [
      "   Feature1 Feature2  Correlation\n",
      "0       X56      X58     0.999976\n",
      "1       X04      X46     0.999920\n",
      "2       X20      X56     0.999880\n",
      "3       X17      X08     0.999588\n",
      "4       X23      X19     0.999290\n",
      "..      ...      ...          ...\n",
      "84      X13      X43     0.717323\n",
      "85      X14      X63     0.709315\n",
      "86      X44      X13     0.708622\n",
      "87      X13      X19     0.706408\n",
      "88      X63      X18     0.703221\n",
      "\n",
      "[89 rows x 3 columns]\n"
     ]
    }
   ],
   "source": [
    "# remove redundant feature X07\n",
    "corr_high_final = corr_high_final.drop(corr_high_final[(corr_high_final['Feature1'] == 'X07') | (corr_high_final['Feature2'] == 'X07')].index,axis = 0 ,inplace = False)\n",
    "corr_high_final = corr_high_final.reset_index(drop=True)\n",
    "print(corr_high_final) "
   ]
  },
  {
   "cell_type": "markdown",
   "id": "e2997699",
   "metadata": {},
   "source": [
    "## Create final feature array "
   ]
  },
  {
   "cell_type": "code",
   "execution_count": 6,
   "id": "a69759c2",
   "metadata": {},
   "outputs": [
    {
     "name": "stdout",
     "output_type": "stream",
     "text": [
      "['X02' 'X03' 'X04' 'X06' 'X08' 'X09' 'X10' 'X11' 'X12' 'X13' 'X14' 'X16'\n",
      " 'X17' 'X18' 'X19' 'X20' 'X22' 'X23' 'X24' 'X25' 'X26' 'X30' 'X31' 'X32'\n",
      " 'X33' 'X34' 'X35' 'X36' 'X38' 'X43' 'X44' 'X46' 'X47' 'X48' 'X49' 'X50'\n",
      " 'X51' 'X52' 'X53' 'X54' 'X56' 'X58' 'X62' 'X63' 'X64']\n"
     ]
    }
   ],
   "source": [
    "# get unique feature array\n",
    "feature_df = np.unique(corr_high_final[['Feature1', 'Feature2']].values)\n",
    "feature_df = feature_df[feature_df != 'X07']\n",
    "print(feature_df)"
   ]
  },
  {
   "cell_type": "markdown",
   "id": "66f0f48f",
   "metadata": {},
   "source": [
    "## Remove non correlated columns from bankruptcy data"
   ]
  },
  {
   "cell_type": "code",
   "execution_count": 7,
   "id": "ec48ac76",
   "metadata": {},
   "outputs": [
    {
     "name": "stdout",
     "output_type": "stream",
     "text": [
      "         X02       X03      X04       X06       X08      X09      X10  \\\n",
      "0   0.379510  0.396410   2.0472  0.388250   1.33050  1.13890  0.50494   \n",
      "1   0.499880  0.472250   1.9447  0.000000   0.99601  1.69960  0.49788   \n",
      "2   0.695920  0.267130   1.5548  0.000000   0.43695  1.30900  0.30408   \n",
      "3   0.307340  0.458790   2.4928  0.149880   1.86610  1.05710  0.57353   \n",
      "4   0.613230  0.229600   1.4063  0.187320   0.63070  1.15590  0.38677   \n",
      "5   0.497940  0.359690   1.7502  0.000000   1.00830  1.97860  0.50206   \n",
      "6   0.647440  0.289710   1.4705  0.000000   0.54454  1.73480  0.35256   \n",
      "7   0.027059  0.705540  53.9540  0.000000  35.95700  0.65273  0.97294   \n",
      "8   0.632020  0.053735   1.1263  0.000000   0.58223  1.33320  0.36798   \n",
      "9   0.838370  0.142040   1.1694  0.000000   0.19279  2.11560  0.16163   \n",
      "10  0.443550  0.188350   1.4400 -0.931900   1.25450  4.74470  0.55645   \n",
      "11  0.111480  0.119890   2.0754 -0.084883   7.67410  0.90732  0.85551   \n",
      "12  0.349940  0.611470   3.0243  0.559830   1.85770  1.12680  0.65006   \n",
      "13  0.198850  0.081562   2.9576  0.212650   4.02900  1.25700  0.80115   \n",
      "14  0.211310  0.452640   7.5746  0.010387   3.73240  1.02410  0.78869   \n",
      "15  1.154000 -0.205990   0.8215 -0.104130  -0.15900  0.97767 -0.18349   \n",
      "16  0.299130  0.468700   2.5669  0.727930   2.23150  1.22140  0.66750   \n",
      "17  0.242310  0.432240   3.0128  0.021598   3.10370  1.01250  0.75206   \n",
      "18  0.560370  0.134950   1.2408  0.000000   0.78452  2.27060  0.43963   \n",
      "19  0.496500  0.425480   2.0190  0.005436   1.01410  2.28270  0.50350   \n",
      "\n",
      "         X11        X12       X13  ...       X52       X53      X54       X56  \\\n",
      "0   0.249760   0.659800  0.166600  ...  0.257920   2.24370   2.2480  0.121960   \n",
      "1   0.261140   0.516800  0.158350  ...  0.334720  17.86600  17.8660  0.121300   \n",
      "2   0.312580   0.641840  0.244350  ...  0.484740   1.20980   2.0504  0.241140   \n",
      "3   0.092704   0.301630  0.094257  ...  0.250330   2.45240   2.4524  0.054015   \n",
      "4   0.187320   0.331470  0.121820  ...  0.402850   1.88390   2.1184  0.134850   \n",
      "5   0.286450   0.586910  0.148120  ...  0.281540   3.12090   3.1927  0.139320   \n",
      "6   0.125750   0.180410  0.309630  ...  0.900640   3.72970   3.7297  0.605900   \n",
      "7   0.693940  48.966000  1.060200  ...  0.022350   3.46070   3.5064  0.086730   \n",
      "8   0.043162   0.033921  0.038938  ...  0.380460   0.70666   0.9476  0.180110   \n",
      "9   0.184540   0.182840  0.075411  ...  0.430560   8.22600   8.2260  0.079665   \n",
      "10  0.242270   0.560720  0.195100  ...  0.139560   1.45050   1.4505  0.353590   \n",
      "11 -0.024300  -0.217980  0.101640  ...  0.190740   1.11300   1.1130 -0.102140   \n",
      "12  0.332070   1.099300  0.120470  ...  0.117830   7.51920   8.0728  0.112500   \n",
      "13  0.078063   1.873600  0.310360  ...  0.207380   0.91375   1.0930  0.204440   \n",
      "14 -0.034653  -0.503330  0.004191  ...  0.089246   1.64820   1.9460  0.023565   \n",
      "15 -0.033801  -0.029291 -0.012483  ...  0.489670  -3.52770  -3.5277 -0.022837   \n",
      "16  0.336190   1.123900  0.206840  ...  0.201770   2.87500   2.8750  0.181270   \n",
      "17  0.039729   0.185000  0.044190  ...  0.115080   2.13040   2.2085  0.012367   \n",
      "18  0.249910   0.433470  0.117000  ...  0.276580   1.44290   1.4429  0.107700   \n",
      "19  0.266240   0.613570  0.140630  ...  0.206220   3.20750   3.3581  0.112990   \n",
      "\n",
      "        X58       X62      X63        X64  Year  Class  \n",
      "0   0.87804   82.6580   4.4158    7.42770     1      0  \n",
      "1   0.85300  107.3500   3.4000   60.98700     1      0  \n",
      "2   0.76599  134.2700   2.7185    5.20780     1      0  \n",
      "3   0.94598   86.4350   4.2228    5.54970     1      0  \n",
      "4   0.86515  127.2100   2.8692    7.89800     1      0  \n",
      "5   0.85891   88.4440   4.1269   12.29900     1      0  \n",
      "6   0.40871  129.5500   2.8173   18.35200     1      0  \n",
      "7   0.49521    7.4503  48.9910    2.32170     1      0  \n",
      "8   0.84165  116.5000   3.1330    2.56030     1      0  \n",
      "9   0.92847  144.6300   2.5236  107.67000     1      0  \n",
      "10  0.64794   32.9280  11.0850   12.36900     1      0  \n",
      "11  1.10210   76.7320   4.7568    0.68991     1      0  \n",
      "12  0.88750   38.1680   9.5629   33.41300     1      0  \n",
      "13  0.79556   60.2180   6.0613    0.28803     1      0  \n",
      "14  0.97644   31.8070  11.4750    1.65110     1      0  \n",
      "15  1.02280  182.8100   1.9966   44.29600     1      0  \n",
      "16  0.81873   60.2970   6.0534    7.79900     1      0  \n",
      "17  0.98763   41.4850   8.7984    5.35230     1      0  \n",
      "18  0.89419   90.0800   4.0519    7.45250     1      0  \n",
      "19  0.88859   66.7640   5.4670   14.54200     1      0  \n",
      "\n",
      "[20 rows x 47 columns]\n"
     ]
    }
   ],
   "source": [
    "#create new dataframe with high correlation features\n",
    "bankruptcy_data_final = bankruptcy_complete[feature_df].copy()\n",
    "\n",
    "# add back in the year and class features\n",
    "bankruptcy_data_final = pd.concat([bankruptcy_data_final,bankruptcy_complete['Year']], axis = 1)\n",
    "bankruptcy_data_final = pd.concat([bankruptcy_data_final,bankruptcy_complete['Class']], axis = 1)\n",
    "print(bankruptcy_data_final.head(20))"
   ]
  },
  {
   "cell_type": "markdown",
   "id": "c55e34b9",
   "metadata": {},
   "source": [
    "## Drop column variables from column key dataframe"
   ]
  },
  {
   "cell_type": "code",
   "execution_count": null,
   "id": "191e1ba6",
   "metadata": {},
   "outputs": [],
   "source": []
  },
  {
   "cell_type": "markdown",
   "id": "1f64a91a",
   "metadata": {},
   "source": [
    "## Train test split\n"
   ]
  },
  {
   "cell_type": "code",
   "execution_count": 8,
   "id": "30b7204a",
   "metadata": {},
   "outputs": [],
   "source": [
    "X_train, X_test, y_train, y_test = train_test_split(bankruptcy_data_final.drop(columns='Class'), bankruptcy_data_final.Class,\n",
    "                                                    test_size=.25  ,random_state=5, stratify=bankruptcy_data_final.Class)"
   ]
  },
  {
   "cell_type": "code",
   "execution_count": 9,
   "id": "9bf21a3a",
   "metadata": {},
   "outputs": [
    {
     "data": {
      "text/plain": [
       "((32553, 46), (10852, 46))"
      ]
     },
     "execution_count": 9,
     "metadata": {},
     "output_type": "execute_result"
    }
   ],
   "source": [
    "X_train.shape, X_test.shape"
   ]
  },
  {
   "cell_type": "code",
   "execution_count": 10,
   "id": "6ddb0334",
   "metadata": {},
   "outputs": [
    {
     "data": {
      "text/plain": [
       "((32553,), (10852,))"
      ]
     },
     "execution_count": 10,
     "metadata": {},
     "output_type": "execute_result"
    }
   ],
   "source": [
    "y_train.shape, y_test.shape"
   ]
  },
  {
   "cell_type": "code",
   "execution_count": 11,
   "id": "ea6fbec5",
   "metadata": {},
   "outputs": [
    {
     "name": "stdout",
     "output_type": "stream",
     "text": [
      "Index(['X02', 'X03', 'X04', 'X06', 'X08', 'X09', 'X10', 'X11', 'X12', 'X13',\n",
      "       'X14', 'X16', 'X17', 'X18', 'X19', 'X20', 'X22', 'X23', 'X24', 'X25',\n",
      "       'X26', 'X30', 'X31', 'X32', 'X33', 'X34', 'X35', 'X36', 'X38', 'X43',\n",
      "       'X44', 'X46', 'X47', 'X48', 'X49', 'X50', 'X51', 'X52', 'X53', 'X54',\n",
      "       'X56', 'X58', 'X62', 'X63', 'X64', 'Year'],\n",
      "      dtype='object')\n"
     ]
    }
   ],
   "source": [
    "print(X_train.columns)"
   ]
  },
  {
   "cell_type": "code",
   "execution_count": 12,
   "id": "ba40192d",
   "metadata": {},
   "outputs": [],
   "source": [
    "#drop year column"
   ]
  },
  {
   "cell_type": "code",
   "execution_count": 13,
   "id": "74a75885",
   "metadata": {},
   "outputs": [],
   "source": [
    "lm = LinearRegression().fit(X_train, y_train)"
   ]
  },
  {
   "cell_type": "code",
   "execution_count": 14,
   "id": "ae34a6e5",
   "metadata": {},
   "outputs": [],
   "source": [
    "y_tr_pred = lm.predict(X_train)\n",
    "y_te_pred = lm.predict(X_test)"
   ]
  },
  {
   "cell_type": "code",
   "execution_count": 15,
   "id": "5b79bec3",
   "metadata": {},
   "outputs": [
    {
     "name": "stdout",
     "output_type": "stream",
     "text": [
      "[0.05032518 0.03583252 0.04246837 ... 0.06539626 0.03843153 0.05183285]\n"
     ]
    }
   ],
   "source": [
    "print(y_tr_pred)"
   ]
  },
  {
   "cell_type": "code",
   "execution_count": 16,
   "id": "70a4a4d4",
   "metadata": {},
   "outputs": [
    {
     "name": "stdout",
     "output_type": "stream",
     "text": [
      "[0.0525168  0.03670107 0.03202197 ... 0.06805883 0.06522195 0.05621996]\n"
     ]
    }
   ],
   "source": [
    "print(y_te_pred)"
   ]
  },
  {
   "cell_type": "code",
   "execution_count": 17,
   "id": "cd9c9850",
   "metadata": {},
   "outputs": [],
   "source": [
    "#scaler = StandardScaler()\n",
    "#scaler.fit(X_tr)\n",
    "#X_tr_scaled = scaler.transform(X_tr)\n",
    "#X_te_scaled = scaler.transform(X_te)"
   ]
  },
  {
   "cell_type": "code",
   "execution_count": null,
   "id": "454a4ff8",
   "metadata": {},
   "outputs": [],
   "source": []
  },
  {
   "cell_type": "code",
   "execution_count": 18,
   "id": "0858065f",
   "metadata": {},
   "outputs": [],
   "source": [
    "#y_tr_pred = lm.predict(X_tr_scaled)\n",
    "#y_te_pred = lm.predict(X_te_scaled)"
   ]
  },
  {
   "cell_type": "code",
   "execution_count": null,
   "id": "14c60e90",
   "metadata": {},
   "outputs": [],
   "source": []
  },
  {
   "cell_type": "code",
   "execution_count": null,
   "id": "8d3ea775",
   "metadata": {},
   "outputs": [],
   "source": []
  },
  {
   "cell_type": "code",
   "execution_count": null,
   "id": "5a379a0b",
   "metadata": {},
   "outputs": [],
   "source": []
  },
  {
   "cell_type": "code",
   "execution_count": 19,
   "id": "8c655dd1",
   "metadata": {},
   "outputs": [],
   "source": [
    "#clf = LogisticRegression()\n",
    "\n",
    "#clf.fit(X_train, y_train) \n",
    "\n",
    "#ypredict_test = clf.predict(X_test)\n",
    "\n",
    "#ypredict_train = clf.predict(X_train)\n"
   ]
  }
 ],
 "metadata": {
  "kernelspec": {
   "display_name": "Python 3",
   "language": "python",
   "name": "python3"
  },
  "language_info": {
   "codemirror_mode": {
    "name": "ipython",
    "version": 3
   },
   "file_extension": ".py",
   "mimetype": "text/x-python",
   "name": "python",
   "nbconvert_exporter": "python",
   "pygments_lexer": "ipython3",
   "version": "3.7.6"
  }
 },
 "nbformat": 4,
 "nbformat_minor": 5
}
