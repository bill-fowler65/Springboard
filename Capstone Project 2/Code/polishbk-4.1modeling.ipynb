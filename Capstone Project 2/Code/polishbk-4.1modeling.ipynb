{
 "cells": [
  {
   "cell_type": "markdown",
   "id": "7d067062",
   "metadata": {},
   "source": [
    "# Capstone 2"
   ]
  },
  {
   "cell_type": "markdown",
   "id": "79461eba",
   "metadata": {},
   "source": [
    "## Polish Bankruptcy"
   ]
  },
  {
   "cell_type": "markdown",
   "id": "725ccd8d",
   "metadata": {},
   "source": [
    "## Modeling"
   ]
  },
  {
   "cell_type": "markdown",
   "id": "5a884ae8",
   "metadata": {},
   "source": [
    "In the pre-processing notebook, the logistic regression had high accuracy in predicting bankruptcy but resulted in very low recall.  In this notebook, I will apply resampling techniques to improve recall.  I will use both oversampling the minority class and undersampling the majority class on the logistic regression model and apply two other models with and without both resampling methods.  I will then compare the results from the classification reports for each process and evaluate the results. "
   ]
  },
  {
   "cell_type": "markdown",
   "id": "359411ae",
   "metadata": {},
   "source": [
    "## Import Statements"
   ]
  },
  {
   "cell_type": "code",
   "execution_count": 1,
   "id": "b3e79c00",
   "metadata": {},
   "outputs": [],
   "source": [
    "#import all needed packages\n",
    "\n",
    "import pandas as pd\n",
    "import numpy as np\n",
    "import os\n",
    "import pickle\n",
    "\n",
    "from xgboost import XGBClassifier\n",
    "from sklearn.model_selection import train_test_split\n",
    "from sklearn.metrics import accuracy_score\n",
    "import matplotlib.pyplot as plt\n",
    "import seaborn as sns\n",
    "from sklearn.linear_model import LogisticRegression\n",
    "from sklearn import __version__ as sklearn_version\n",
    "from sklearn.model_selection import cross_validate\n",
    "from sklearn.metrics import classification_report\n",
    "from imblearn.over_sampling import SMOTE"
   ]
  },
  {
   "cell_type": "markdown",
   "id": "0d2f5cd8",
   "metadata": {},
   "source": [
    "## Load Data"
   ]
  },
  {
   "cell_type": "code",
   "execution_count": 2,
   "id": "01ccede4",
   "metadata": {},
   "outputs": [],
   "source": [
    "# load the train test files from disk\n",
    "filename = 'X_train_scaled.csv'\n",
    "X_train_scaled = pd.read_csv('X_train_scaled.csv', index_col=0)\n",
    "X_test_scaled = pd.read_csv('X_test_scaled.csv', index_col=0)\n",
    "y_train = pd.read_csv('y_train.csv', index_col=0)\n",
    "y_test = pd.read_csv('y_test.csv', index_col=0)"
   ]
  },
  {
   "cell_type": "markdown",
   "id": "6e43ee6f",
   "metadata": {},
   "source": [
    "## View Train Test Data"
   ]
  },
  {
   "cell_type": "code",
   "execution_count": 3,
   "id": "3b610a91",
   "metadata": {},
   "outputs": [
    {
     "name": "stdout",
     "output_type": "stream",
     "text": [
      "            X03       X04       X06       X08       X09       X10       X11  \\\n",
      "12113 -0.163551 -0.019446 -0.213395 -0.025616 -0.037721 -0.073549 -0.339471   \n",
      "3289   0.028093 -0.014577  0.010597 -0.019986 -0.035235  0.009176 -0.032724   \n",
      "16567 -0.039875 -0.018477  0.031222 -0.023735 -0.034676 -0.014012 -0.033221   \n",
      "21367  0.046737 -0.012777  0.045826 -0.023654 -0.031725 -0.011934 -0.003059   \n",
      "32394  0.085720 -0.000891  0.058324 -0.010024 -0.030893  0.020583  0.006298   \n",
      "\n",
      "            X12       X13       X14  ...       X50       X51       X52  \\\n",
      "12113 -0.025469 -0.012541 -0.257295  ... -0.017743  0.156218 -0.010243   \n",
      "3289  -0.014684 -0.011254 -0.017094  ... -0.013072 -0.040386 -0.010977   \n",
      "16567 -0.015058 -0.011162 -0.017484  ... -0.017177 -0.007341 -0.010657   \n",
      "21367 -0.008565 -0.010231  0.006135  ... -0.015761 -0.045545 -0.010803   \n",
      "32394  0.003409 -0.009519  0.013462  ...  0.000051 -0.066595 -0.010934   \n",
      "\n",
      "            X53       X54       X56       X58       X62       X63      Year  \n",
      "12113 -0.018906 -0.019411  0.005598 -0.006091 -0.008469 -0.127717 -0.729970  \n",
      "3289  -0.016802 -0.017316  0.005616 -0.006109 -0.009934  0.033371 -1.508513  \n",
      "16567 -0.017590 -0.017984  0.005620 -0.006113 -0.009385 -0.099110 -0.729970  \n",
      "21367 -0.017177 -0.017012  0.005636 -0.006129 -0.009693 -0.063946  0.048574  \n",
      "32394 -0.015548 -0.016063  0.005640 -0.006133 -0.009902  0.009457  0.827117  \n",
      "\n",
      "[5 rows x 39 columns]\n"
     ]
    }
   ],
   "source": [
    "#print scaled data\n",
    "print(X_train_scaled.head())"
   ]
  },
  {
   "cell_type": "code",
   "execution_count": 4,
   "id": "80cdd1e3",
   "metadata": {},
   "outputs": [
    {
     "name": "stdout",
     "output_type": "stream",
     "text": [
      "            X03       X04       X06       X08       X09       X10       X11  \\\n",
      "25162 -0.025318 -0.018181  0.010845 -0.022973 -0.035122 -0.013729 -0.035424   \n",
      "15362  0.047476 -0.012828  0.027407 -0.019149 -0.010805  0.011902  0.046414   \n",
      "4236   0.025213 -0.014726  0.058733 -0.019909 -0.032972  0.009232 -0.006364   \n",
      "33893 -0.023946 -0.017795 -0.044722 -0.024459 -0.029464 -0.024780 -0.019124   \n",
      "40333 -0.003534 -0.016555  0.005887 -0.019379 -0.016365  0.011394 -0.033572   \n",
      "\n",
      "            X12       X13       X14  ...       X50       X51       X52  \\\n",
      "25162 -0.015121 -0.011138 -0.019208  ... -0.017399 -0.046980 -0.010952   \n",
      "15362  0.000817 -0.009838  0.043705  ... -0.011395 -0.044685 -0.010916   \n",
      "4236  -0.009877 -0.010377  0.003547  ... -0.013215 -0.041003 -0.010829   \n",
      "33893 -0.014367 -0.010980 -0.006695  ... -0.016157  0.045150 -0.008629   \n",
      "40333 -0.014896 -0.011003 -0.018258  ... -0.015099 -0.044829 -0.010918   \n",
      "\n",
      "            X53       X54       X56       X58       X62       X63      Year  \n",
      "25162 -0.017674 -0.018055  0.005617 -0.006110 -0.009893  0.003693  0.048574  \n",
      "15362 -0.016430 -0.016944  0.005638 -0.006134 -0.009871 -0.008315 -0.729970  \n",
      "4236  -0.016853 -0.017367  0.005630 -0.006123 -0.009713 -0.059919 -1.508513  \n",
      "33893 -0.017341 -0.017854  0.005726 -0.006218 -0.008691 -0.124082  0.827117  \n",
      "40333 -0.017156 -0.017669  0.005618 -0.006112 -0.009836 -0.024015  1.605661  \n",
      "\n",
      "[5 rows x 39 columns]\n"
     ]
    }
   ],
   "source": [
    "#print scaled test data\n",
    "print(X_test_scaled.head())"
   ]
  },
  {
   "cell_type": "code",
   "execution_count": 5,
   "id": "f09ef742",
   "metadata": {},
   "outputs": [
    {
     "name": "stdout",
     "output_type": "stream",
     "text": [
      "       Class\n",
      "12113      0\n",
      "3289       0\n",
      "16567      0\n",
      "21367      0\n",
      "32394      0\n"
     ]
    }
   ],
   "source": [
    "#print y train data\n",
    "print(y_train.head())"
   ]
  },
  {
   "cell_type": "code",
   "execution_count": 6,
   "id": "c9febacb",
   "metadata": {},
   "outputs": [
    {
     "name": "stdout",
     "output_type": "stream",
     "text": [
      "       Class\n",
      "25162      0\n",
      "15362      0\n",
      "4236       0\n",
      "33893      0\n",
      "40333      0\n",
      "...      ...\n",
      "10939      0\n",
      "9520       0\n",
      "41847      0\n",
      "38614      0\n",
      "33968      0\n",
      "\n",
      "[10852 rows x 1 columns]\n"
     ]
    }
   ],
   "source": [
    "#print y test data\n",
    "print(y_test)"
   ]
  },
  {
   "cell_type": "markdown",
   "id": "5ecbc3c9",
   "metadata": {},
   "source": [
    "## Create Logistic Regression object"
   ]
  },
  {
   "cell_type": "code",
   "execution_count": 7,
   "id": "f0861275",
   "metadata": {},
   "outputs": [
    {
     "name": "stderr",
     "output_type": "stream",
     "text": [
      "C:\\ProgramData\\Anaconda3\\lib\\site-packages\\sklearn\\utils\\validation.py:63: DataConversionWarning: A column-vector y was passed when a 1d array was expected. Please change the shape of y to (n_samples, ), for example using ravel().\n",
      "  return f(*args, **kwargs)\n"
     ]
    },
    {
     "data": {
      "text/plain": [
       "LogisticRegression(max_iter=1000)"
      ]
     },
     "execution_count": 7,
     "metadata": {},
     "output_type": "execute_result"
    }
   ],
   "source": [
    "# create the regression object\n",
    "clf1 = LogisticRegression(max_iter=1000)\n",
    "# fit the scaled and training data\n",
    "clf1.fit(X_train_scaled, y_train)"
   ]
  },
  {
   "cell_type": "code",
   "execution_count": 8,
   "id": "70c2795e",
   "metadata": {},
   "outputs": [],
   "source": [
    "# run the regression model\n",
    "y_te_pred_lr = clf1.predict(X_test_scaled)\n",
    "y_predict_training_lr = clf1.predict(X_train_scaled)"
   ]
  },
  {
   "cell_type": "markdown",
   "id": "a7ae903f",
   "metadata": {},
   "source": [
    "## Print Logistic Accuracy"
   ]
  },
  {
   "cell_type": "code",
   "execution_count": 9,
   "id": "e5e788bb",
   "metadata": {},
   "outputs": [
    {
     "name": "stdout",
     "output_type": "stream",
     "text": [
      "\n",
      "\n",
      "[Test] Accuracy score: (y_test, y_te_pred_lr) 0.9517139697751567\n",
      "\n",
      "\n",
      "[Training] Accuracy score: (y_train, y_predict_training_lr) 0.9518631155346665\n"
     ]
    }
   ],
   "source": [
    "# print test accuracy\n",
    "print(\"\\n\")\n",
    "print(\"[Test] Accuracy score: (y_test, y_te_pred_lr)\",accuracy_score(y_test, y_te_pred_lr))\n",
    "\n",
    "# print training accuracy\n",
    "print(\"\\n\")\n",
    "print(\"[Training] Accuracy score: (y_train, y_predict_training_lr)\",accuracy_score(y_train, y_predict_training_lr))"
   ]
  },
  {
   "cell_type": "markdown",
   "id": "795e8baf",
   "metadata": {},
   "source": [
    "## Print Logistic Classification"
   ]
  },
  {
   "cell_type": "code",
   "execution_count": 10,
   "id": "380a0198",
   "metadata": {},
   "outputs": [
    {
     "name": "stdout",
     "output_type": "stream",
     "text": [
      "[Training Classification Report]\n",
      "              precision    recall  f1-score   support\n",
      "\n",
      "           0       0.95      1.00      0.98     30985\n",
      "           1       0.52      0.01      0.01      1568\n",
      "\n",
      "    accuracy                           0.95     32553\n",
      "   macro avg       0.74      0.50      0.49     32553\n",
      "weighted avg       0.93      0.95      0.93     32553\n",
      "\n",
      "[Test Classification Report]\n",
      "              precision    recall  f1-score   support\n",
      "\n",
      "           0       0.95      1.00      0.98     10329\n",
      "           1       0.44      0.01      0.02       523\n",
      "\n",
      "    accuracy                           0.95     10852\n",
      "   macro avg       0.70      0.50      0.50     10852\n",
      "weighted avg       0.93      0.95      0.93     10852\n",
      "\n"
     ]
    }
   ],
   "source": [
    "# print classification scores  0 is non bankrupt entities 1 is bankrupt entitiies\n",
    "print(\"[Training Classification Report]\")\n",
    "print(classification_report(y_train, y_predict_training_lr))\n",
    "\n",
    "print(\"[Test Classification Report]\")\n",
    "print(classification_report(y_test, y_te_pred_lr))"
   ]
  },
  {
   "cell_type": "markdown",
   "id": "add4c986",
   "metadata": {},
   "source": [
    "## Over sample with smote "
   ]
  },
  {
   "cell_type": "code",
   "execution_count": 11,
   "id": "85e0f7c5",
   "metadata": {},
   "outputs": [],
   "source": [
    "smote_lr = SMOTE(sampling_strategy='minority')\n",
    "X_sm_train_lr2, y_sm_train_lr2 = smote_lr.fit_resample(X_train_scaled, y_train)"
   ]
  },
  {
   "cell_type": "markdown",
   "id": "7dfd2994",
   "metadata": {},
   "source": [
    "## Logistic Regression on Resampled data"
   ]
  },
  {
   "cell_type": "code",
   "execution_count": 12,
   "id": "4c633f2f",
   "metadata": {},
   "outputs": [
    {
     "name": "stderr",
     "output_type": "stream",
     "text": [
      "C:\\ProgramData\\Anaconda3\\lib\\site-packages\\sklearn\\utils\\validation.py:63: DataConversionWarning: A column-vector y was passed when a 1d array was expected. Please change the shape of y to (n_samples, ), for example using ravel().\n",
      "  return f(*args, **kwargs)\n"
     ]
    },
    {
     "data": {
      "text/plain": [
       "LogisticRegression(max_iter=1000)"
      ]
     },
     "execution_count": 12,
     "metadata": {},
     "output_type": "execute_result"
    }
   ],
   "source": [
    "clf2 = LogisticRegression(max_iter=1000)\n",
    "# fit the scaled and training data\n",
    "clf2.fit(X_sm_train_lr2, y_sm_train_lr2)"
   ]
  },
  {
   "cell_type": "code",
   "execution_count": 13,
   "id": "e7643e37",
   "metadata": {},
   "outputs": [],
   "source": [
    "y_te_pred_lr2 = clf2.predict(X_test_scaled)\n",
    "\n",
    "y_predict_training_lr2 = clf2.predict(X_sm_train_lr2)\n",
    "#y_predict_training_xgb = xgb_model1.predict(X_train_scaled)\n",
    "\n",
    "#y_te_pred_lr = clf1.predict(X_test_scaled)\n",
    "#y_predict_training_lr = clf1.predict(X_train_scaled)\n"
   ]
  },
  {
   "cell_type": "markdown",
   "id": "8443e32c",
   "metadata": {},
   "source": [
    "## Print accuracy on resampled data"
   ]
  },
  {
   "cell_type": "code",
   "execution_count": 14,
   "id": "d1f12ae4",
   "metadata": {},
   "outputs": [
    {
     "name": "stdout",
     "output_type": "stream",
     "text": [
      "\n",
      "\n",
      "[Test] Accuracy score: (y_test, y_te_pred_lr) 0.6872465904902322\n",
      "(61970,)\n"
     ]
    }
   ],
   "source": [
    "# print test accuracy\n",
    "print(\"\\n\")\n",
    "print(\"[Test] Accuracy score: (y_test, y_te_pred_lr)\",accuracy_score(y_test, y_te_pred_lr2))\n",
    "\n",
    "# print training accuracy\n",
    "#print(\"\\n\")\n",
    "#print(\"[Training] Accuracy score: (y_train, y_predict_training_lr)\",accuracy_score(y_train, y_predict_training_lr2))\n",
    "#print(y_train)\n",
    "print(y_predict_training_lr2.shape)"
   ]
  },
  {
   "cell_type": "markdown",
   "id": "9e69ab8d",
   "metadata": {},
   "source": [
    "## Create XGB Object"
   ]
  },
  {
   "cell_type": "code",
   "execution_count": 15,
   "id": "ed84919c",
   "metadata": {},
   "outputs": [
    {
     "name": "stderr",
     "output_type": "stream",
     "text": [
      "C:\\ProgramData\\Anaconda3\\lib\\site-packages\\xgboost\\sklearn.py:1146: UserWarning: The use of label encoder in XGBClassifier is deprecated and will be removed in a future release. To remove this warning, do the following: 1) Pass option use_label_encoder=False when constructing XGBClassifier object; and 2) Encode your labels (y) as integers starting with 0, i.e. 0, 1, 2, ..., [num_class - 1].\n",
      "  warnings.warn(label_encoder_deprecation_msg, UserWarning)\n",
      "C:\\ProgramData\\Anaconda3\\lib\\site-packages\\sklearn\\utils\\validation.py:63: DataConversionWarning: A column-vector y was passed when a 1d array was expected. Please change the shape of y to (n_samples, ), for example using ravel().\n",
      "  return f(*args, **kwargs)\n"
     ]
    },
    {
     "name": "stdout",
     "output_type": "stream",
     "text": [
      "[11:49:05] WARNING: C:/Users/Administrator/workspace/xgboost-win64_release_1.4.0/src/learner.cc:1095: Starting in XGBoost 1.3.0, the default evaluation metric used with the objective 'binary:logistic' was changed from 'error' to 'logloss'. Explicitly set eval_metric if you'd like to restore the old behavior.\n",
      "Accuracy: 95.33%\n"
     ]
    }
   ],
   "source": [
    "xgb_model1 = XGBClassifier()\n",
    "xgb_model1.fit(X_train_scaled, y_train)\n",
    "\n",
    "y_te_pred_xgb = xgb_model1.predict(X_test_scaled)\n",
    "y_predict_training_xgb = xgb_model1.predict(X_train_scaled)\n",
    "\n",
    "\n",
    "accuracy = accuracy_score(y_test, y_te_pred_xgb)\n",
    "print(\"Accuracy: %.2f%%\" % (accuracy * 100.0))"
   ]
  },
  {
   "cell_type": "markdown",
   "id": "dac270b7",
   "metadata": {},
   "source": [
    "##  Print XGB Classification Report"
   ]
  },
  {
   "cell_type": "code",
   "execution_count": 16,
   "id": "0eec4177",
   "metadata": {},
   "outputs": [
    {
     "name": "stdout",
     "output_type": "stream",
     "text": [
      "[Training Classification Report]\n",
      "              precision    recall  f1-score   support\n",
      "\n",
      "           0       0.99      1.00      1.00     30985\n",
      "           1       1.00      0.83      0.91      1568\n",
      "\n",
      "    accuracy                           0.99     32553\n",
      "   macro avg       1.00      0.92      0.95     32553\n",
      "weighted avg       0.99      0.99      0.99     32553\n",
      "\n",
      "[Test Classification Report]\n",
      "              precision    recall  f1-score   support\n",
      "\n",
      "           0       0.96      0.99      0.98     10329\n",
      "           1       0.55      0.18      0.27       523\n",
      "\n",
      "    accuracy                           0.95     10852\n",
      "   macro avg       0.75      0.59      0.62     10852\n",
      "weighted avg       0.94      0.95      0.94     10852\n",
      "\n"
     ]
    }
   ],
   "source": [
    "\n",
    "# print classification scores  0 is non bankrupt entities 1 is bankrupt entitiies\n",
    "print(\"[Training Classification Report]\")\n",
    "print(classification_report(y_train, y_predict_training_xgb))\n",
    "\n",
    "print(\"[Test Classification Report]\")\n",
    "print(classification_report(y_test, y_te_pred_xgb))"
   ]
  },
  {
   "cell_type": "markdown",
   "id": "445215da",
   "metadata": {},
   "source": [
    "##  Resample data with SMOTE"
   ]
  },
  {
   "cell_type": "code",
   "execution_count": 17,
   "id": "e06fb49b",
   "metadata": {},
   "outputs": [],
   "source": [
    "smote_xgb = SMOTE(sampling_strategy='minority')\n",
    "X_sm_train_xgb, y_sm_train_xgb = smote_xgb.fit_resample(X_train_scaled, y_train)"
   ]
  },
  {
   "cell_type": "markdown",
   "id": "d179b207",
   "metadata": {},
   "source": [
    "## Create SMOTE Object with resampled data"
   ]
  },
  {
   "cell_type": "code",
   "execution_count": 18,
   "id": "25d623ef",
   "metadata": {},
   "outputs": [
    {
     "name": "stderr",
     "output_type": "stream",
     "text": [
      "C:\\ProgramData\\Anaconda3\\lib\\site-packages\\xgboost\\sklearn.py:1146: UserWarning: The use of label encoder in XGBClassifier is deprecated and will be removed in a future release. To remove this warning, do the following: 1) Pass option use_label_encoder=False when constructing XGBClassifier object; and 2) Encode your labels (y) as integers starting with 0, i.e. 0, 1, 2, ..., [num_class - 1].\n",
      "  warnings.warn(label_encoder_deprecation_msg, UserWarning)\n",
      "C:\\ProgramData\\Anaconda3\\lib\\site-packages\\sklearn\\utils\\validation.py:63: DataConversionWarning: A column-vector y was passed when a 1d array was expected. Please change the shape of y to (n_samples, ), for example using ravel().\n",
      "  return f(*args, **kwargs)\n"
     ]
    },
    {
     "name": "stdout",
     "output_type": "stream",
     "text": [
      "[11:49:14] WARNING: C:/Users/Administrator/workspace/xgboost-win64_release_1.4.0/src/learner.cc:1095: Starting in XGBoost 1.3.0, the default evaluation metric used with the objective 'binary:logistic' was changed from 'error' to 'logloss'. Explicitly set eval_metric if you'd like to restore the old behavior.\n",
      "Accuracy: 91.49%\n"
     ]
    }
   ],
   "source": [
    "xgb_model2 = XGBClassifier()\n",
    "xgb_model2.fit(X_sm_train_xgb, y_sm_train_xgb)\n",
    "\n",
    "y_te_pred_smote = xgb_model2.predict(X_test_scaled)\n",
    "y_predict_training_smote = xgb_model2.predict(X_sm_train_xgb)\n",
    "\n",
    "\n",
    "accuracy = accuracy_score(y_test, y_te_pred_smote)\n",
    "print(\"Accuracy: %.2f%%\" % (accuracy * 100.0))"
   ]
  },
  {
   "cell_type": "markdown",
   "id": "72ba723d",
   "metadata": {},
   "source": [
    "## Run Classification Report on resampled data"
   ]
  },
  {
   "cell_type": "code",
   "execution_count": 19,
   "id": "f7bba2ae",
   "metadata": {},
   "outputs": [
    {
     "name": "stdout",
     "output_type": "stream",
     "text": [
      "[Training Classification Report]\n",
      "              precision    recall  f1-score   support\n",
      "\n",
      "           0       0.99      0.97      0.98     30985\n",
      "           1       0.97      0.99      0.98     30985\n",
      "\n",
      "    accuracy                           0.98     61970\n",
      "   macro avg       0.98      0.98      0.98     61970\n",
      "weighted avg       0.98      0.98      0.98     61970\n",
      "\n",
      "[Test Classification Report]\n",
      "              precision    recall  f1-score   support\n",
      "\n",
      "           0       0.98      0.93      0.95     10329\n",
      "           1       0.31      0.62      0.41       523\n",
      "\n",
      "    accuracy                           0.91     10852\n",
      "   macro avg       0.64      0.77      0.68     10852\n",
      "weighted avg       0.95      0.91      0.93     10852\n",
      "\n"
     ]
    }
   ],
   "source": [
    "# print classification scores  0 is non bankrupt entities 1 is bankrupt entitiies\n",
    "print(\"[Training Classification Report]\")\n",
    "print(classification_report(y_sm_train_xgb, y_predict_training_smote))\n",
    "\n",
    "print(\"[Test Classification Report]\")\n",
    "print(classification_report(y_test, y_te_pred_smote))"
   ]
  },
  {
   "cell_type": "code",
   "execution_count": null,
   "id": "0fbfde96",
   "metadata": {},
   "outputs": [],
   "source": []
  }
 ],
 "metadata": {
  "kernelspec": {
   "display_name": "Python 3",
   "language": "python",
   "name": "python3"
  },
  "language_info": {
   "codemirror_mode": {
    "name": "ipython",
    "version": 3
   },
   "file_extension": ".py",
   "mimetype": "text/x-python",
   "name": "python",
   "nbconvert_exporter": "python",
   "pygments_lexer": "ipython3",
   "version": "3.7.6"
  }
 },
 "nbformat": 4,
 "nbformat_minor": 5
}
