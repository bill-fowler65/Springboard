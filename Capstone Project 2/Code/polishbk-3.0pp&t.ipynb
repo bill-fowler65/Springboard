{
 "cells": [
  {
   "cell_type": "markdown",
   "id": "e9b9af03",
   "metadata": {},
   "source": [
    "# Capstone 2"
   ]
  },
  {
   "cell_type": "markdown",
   "id": "fba1dd20",
   "metadata": {},
   "source": [
    "## Polish Bankruptcy"
   ]
  },
  {
   "cell_type": "markdown",
   "id": "571dad5a",
   "metadata": {},
   "source": [
    "## Pre-processing and Training"
   ]
  },
  {
   "cell_type": "markdown",
   "id": "41f00c86",
   "metadata": {},
   "source": []
  },
  {
   "cell_type": "markdown",
   "id": "0d6b0a39",
   "metadata": {},
   "source": [
    "## Import Statements"
   ]
  },
  {
   "cell_type": "code",
   "execution_count": 2,
   "id": "573e8927",
   "metadata": {},
   "outputs": [],
   "source": [
    "import pandas as pd\n",
    "import numpy as np\n",
    "import os\n",
    "import matplotlib.pyplot as plt\n",
    "import seaborn as sns\n",
    "from sklearn.decomposition import PCA\n",
    "from sklearn.preprocessing import scale\n",
    "\n",
    "\n",
    "\n",
    "from sklearn.model_selection import train_test_split\n",
    "from sklearn.linear_model import LogisticRegression\n",
    "from sklearn.metrics import accuracy_score\n"
   ]
  },
  {
   "cell_type": "markdown",
   "id": "9c7fbdfd",
   "metadata": {},
   "source": [
    "## Load Data"
   ]
  },
  {
   "cell_type": "code",
   "execution_count": 4,
   "id": "46121cb7",
   "metadata": {},
   "outputs": [],
   "source": [
    "bankruptcy_data = pd.read_csv('bankruptcy_data_comb.csv')\n",
    "data_columns = pd.read_csv('column_key.csv')\n",
    "\n",
    "dataCorrhigh = pd.read_csv('dataCorrhigh.csv')\n",
    "dataCorrmid = pd.read_csv('dataCorrmid.csv')\n",
    "dataCorrlow = pd.read_csv('dataCorrlow.csv')\n",
    "\n",
    "# save outlier dataframe to file\n",
    "outlier_df = pd.read_csv('outlier_df.csv')"
   ]
  },
  {
   "cell_type": "code",
   "execution_count": null,
   "id": "30b7204a",
   "metadata": {},
   "outputs": [],
   "source": [
    "X_train, X_test, y_train, y_test = train_test_split(ski_data.drop(columns='AdultWeekend'), \n",
    "                                                    ski_data.AdultWeekend, random_state=5)"
   ]
  },
  {
   "cell_type": "code",
   "execution_count": null,
   "id": "9bf21a3a",
   "metadata": {},
   "outputs": [],
   "source": [
    "#Call `X_train` and `X_test`'s `fillna()` method, passing `X_defaults_median` as the values to use\n",
    "#Assign the results to `X_tr` and `X_te`, respectively\n",
    "X_tr = X_train.fillna(X_defaults_median)\n",
    "X_te = X_test.fillna(X_defaults_median)"
   ]
  },
  {
   "cell_type": "code",
   "execution_count": null,
   "id": "8c655dd1",
   "metadata": {},
   "outputs": [],
   "source": [
    "clf = LogisticRegression()\n",
    "\n",
    "clf.fit(X_train, y_train) \n",
    "\n",
    "ypredict_test = clf.predict(X_test)\n",
    "\n",
    "ypredict_train = clf.predict(X_train)\n"
   ]
  }
 ],
 "metadata": {
  "kernelspec": {
   "display_name": "Python 3",
   "language": "python",
   "name": "python3"
  },
  "language_info": {
   "codemirror_mode": {
    "name": "ipython",
    "version": 3
   },
   "file_extension": ".py",
   "mimetype": "text/x-python",
   "name": "python",
   "nbconvert_exporter": "python",
   "pygments_lexer": "ipython3",
   "version": "3.7.6"
  }
 },
 "nbformat": 4,
 "nbformat_minor": 5
}
