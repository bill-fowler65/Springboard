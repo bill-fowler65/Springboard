{
 "cells": [
  {
   "cell_type": "markdown",
   "id": "7d067062",
   "metadata": {},
   "source": [
    "# Capstone 2"
   ]
  },
  {
   "cell_type": "markdown",
   "id": "79461eba",
   "metadata": {},
   "source": [
    "## Polish Bankruptcy"
   ]
  },
  {
   "cell_type": "markdown",
   "id": "725ccd8d",
   "metadata": {},
   "source": [
    "## Modeling"
   ]
  },
  {
   "cell_type": "markdown",
   "id": "5a884ae8",
   "metadata": {},
   "source": [
    "In the pre-processing notebook, the logistic regression had high accuracy in predicting bankruptcy but resulted in very low recall.  In this notebook, I will apply resampling techniques to improve recall.  I will use both oversampling the minority class and undersampling the majority class on the logistic regression model and apply two other models with and without both resampling methods.  I will then compare the results from the classification reports for each process and evaluate the results. "
   ]
  },
  {
   "cell_type": "markdown",
   "id": "359411ae",
   "metadata": {},
   "source": [
    "## Import Statements"
   ]
  },
  {
   "cell_type": "code",
   "execution_count": 1,
   "id": "b3e79c00",
   "metadata": {},
   "outputs": [],
   "source": [
    "#import all needed packages\n",
    "\n",
    "import pandas as pd\n",
    "import numpy as np\n",
    "import os\n",
    "\n",
    "from imblearn.under_sampling import RandomUnderSampler\n",
    "from sklearn.ensemble import RandomForestClassifier\n",
    "from xgboost import XGBClassifier\n",
    "from sklearn.metrics import accuracy_score\n",
    "import matplotlib.pyplot as plt\n",
    "from sklearn.linear_model import LogisticRegression\n",
    "from sklearn import __version__ as sklearn_version\n",
    "from sklearn.model_selection import GridSearchCV\n",
    "from sklearn.model_selection import cross_validate\n",
    "from sklearn.metrics import classification_report\n",
    "from imblearn.over_sampling import SMOTE"
   ]
  },
  {
   "cell_type": "markdown",
   "id": "0d2f5cd8",
   "metadata": {},
   "source": [
    "## Load Data"
   ]
  },
  {
   "cell_type": "code",
   "execution_count": 2,
   "id": "01ccede4",
   "metadata": {},
   "outputs": [],
   "source": [
    "# load the train test files from disk\n",
    "filename = 'X_train_scaled.csv'\n",
    "X_train = pd.read_csv('X_train_scaled.csv', index_col=0)\n",
    "X_test = pd.read_csv('X_test_scaled.csv', index_col=0)\n",
    "y_train = pd.read_csv('y_train.csv', index_col=0)\n",
    "y_test = pd.read_csv('y_test.csv', index_col=0)"
   ]
  },
  {
   "cell_type": "markdown",
   "id": "3a7b2aef",
   "metadata": {},
   "source": [
    "## Oversample data with SMOTE"
   ]
  },
  {
   "cell_type": "code",
   "execution_count": 3,
   "id": "97f11002",
   "metadata": {},
   "outputs": [],
   "source": [
    "smote_resamp = SMOTE(sampling_strategy='minority')\n",
    "X_train_resamp, y_train_resamp = smote_resamp.fit_resample(X_train, y_train)"
   ]
  },
  {
   "cell_type": "markdown",
   "id": "d3eb60ba",
   "metadata": {},
   "source": [
    "## Undersample data with Random undersample"
   ]
  },
  {
   "cell_type": "code",
   "execution_count": 4,
   "id": "b4ab2d2d",
   "metadata": {},
   "outputs": [],
   "source": [
    "rus = RandomUnderSampler()\n",
    "X_train_rus, y_train_rus = rus.fit_resample(X_train, y_train)"
   ]
  },
  {
   "cell_type": "markdown",
   "id": "6e43ee6f",
   "metadata": {},
   "source": [
    "## View Train Test Data"
   ]
  },
  {
   "cell_type": "code",
   "execution_count": 5,
   "id": "3b610a91",
   "metadata": {},
   "outputs": [
    {
     "name": "stdout",
     "output_type": "stream",
     "text": [
      "            X02       X03       X04       X08       X09       X10       X11  \\\n",
      "12113  0.127666 -0.163551 -0.019446 -0.025616 -0.037721 -0.073549 -0.339471   \n",
      "3289  -0.053666  0.028093 -0.014577 -0.019986 -0.035235  0.009176 -0.032724   \n",
      "16567 -0.007887 -0.039875 -0.018477 -0.023735 -0.034676 -0.014012 -0.033221   \n",
      "21367 -0.006966  0.046737 -0.012777 -0.023654 -0.031725 -0.011934 -0.003059   \n",
      "32394 -0.077769  0.085720 -0.000891 -0.010024 -0.030893  0.020583  0.006298   \n",
      "...         ...       ...       ...       ...       ...       ...       ...   \n",
      "24299  0.249851 -0.139514 -0.019874 -0.026012 -0.031294 -0.124618 -0.342898   \n",
      "41350 -0.025706  0.029824 -0.015768 -0.022830 -0.032927 -0.004345  0.003568   \n",
      "38703 -0.006487  0.011172 -0.014978 -0.023610 -0.030218 -0.010802  0.002055   \n",
      "12352 -0.070602  0.067679 -0.004315 -0.014995 -0.035090  0.017666  0.006355   \n",
      "24962  0.016042 -0.061004 -0.019018 -0.024267  0.094182 -0.020805 -0.022322   \n",
      "\n",
      "            X12       X13       X14  ...       X50       X51       X53  \\\n",
      "12113 -0.025469 -0.012541 -0.257295  ... -0.017743  0.156218 -0.018906   \n",
      "3289  -0.014684 -0.011254 -0.017094  ... -0.013072 -0.040386 -0.016802   \n",
      "16567 -0.015058 -0.011162 -0.017484  ... -0.017177 -0.007341 -0.017590   \n",
      "21367 -0.008565 -0.010231  0.006135  ... -0.015761 -0.045545 -0.017177   \n",
      "32394  0.003409 -0.009519  0.013462  ...  0.000051 -0.066595 -0.015548   \n",
      "...         ...       ...       ...  ...       ...       ...       ...   \n",
      "24299 -0.031364 -0.021155 -0.272973  ... -0.018558  0.076984 -0.019353   \n",
      "41350 -0.011121 -0.010563  0.011325  ... -0.014213 -0.009982 -0.016529   \n",
      "38703 -0.009924 -0.010556 -0.002713  ... -0.017021 -0.052209 -0.017503   \n",
      "12352  0.002582 -0.009540  0.013256  ... -0.007463 -0.065870 -0.016281   \n",
      "24962 -0.014649 -0.011322 -0.013200  ... -0.017683  0.007789 -0.017727   \n",
      "\n",
      "            X54       X56       X58       X62       X63       X64      Year  \n",
      "12113 -0.019411  0.005598 -0.006091 -0.008469 -0.127717 -0.026396 -0.729970  \n",
      "3289  -0.017316  0.005616 -0.006109 -0.009934  0.033371 -0.025765 -1.508513  \n",
      "16567 -0.017984  0.005620 -0.006113 -0.009385 -0.099110 -0.027381 -0.729970  \n",
      "21367 -0.017012  0.005636 -0.006129 -0.009693 -0.063946 -0.026999  0.048574  \n",
      "32394 -0.016063  0.005640 -0.006133 -0.009902  0.009457 -0.026805  0.827117  \n",
      "...         ...       ...       ...       ...       ...       ...       ...  \n",
      "24299 -0.018526  0.005468 -0.005949 -0.008218 -0.130822 -0.027612  0.048574  \n",
      "41350 -0.017043  0.005630 -0.006123 -0.009585 -0.080565 -0.025614  1.605661  \n",
      "38703 -0.017569  0.005635 -0.006121 -0.009775 -0.044745 -0.027462  1.605661  \n",
      "12352 -0.016796  0.005640 -0.006135 -0.009890  0.001978 -0.027179 -0.729970  \n",
      "24962 -0.018059  0.005619 -0.006111 -0.009945  0.043006 -0.024620  0.048574  \n",
      "\n",
      "[32553 rows x 39 columns]\n"
     ]
    }
   ],
   "source": [
    "#print scaled data\n",
    "print(X_train)"
   ]
  },
  {
   "cell_type": "code",
   "execution_count": 6,
   "id": "ad76edfb",
   "metadata": {},
   "outputs": [
    {
     "name": "stdout",
     "output_type": "stream",
     "text": [
      "            X02       X03       X04       X08       X09       X10       X11  \\\n",
      "0      0.127666 -0.163551 -0.019446 -0.025616 -0.037721 -0.073549 -0.339471   \n",
      "1     -0.053666  0.028093 -0.014577 -0.019986 -0.035235  0.009176 -0.032724   \n",
      "2     -0.007887 -0.039875 -0.018477 -0.023735 -0.034676 -0.014012 -0.033221   \n",
      "3     -0.006966  0.046737 -0.012777 -0.023654 -0.031725 -0.011934 -0.003059   \n",
      "4     -0.077769  0.085720 -0.000891 -0.010024 -0.030893  0.020583  0.006298   \n",
      "...         ...       ...       ...       ...       ...       ...       ...   \n",
      "61965 -0.046991  0.055802 -0.012694 -0.020860 -0.032827  0.007196  0.007507   \n",
      "61966 -0.043047  0.071519 -0.012142 -0.021284 -0.021837  0.005431  0.011787   \n",
      "61967  0.033501 -0.048335 -0.018422 -0.024750 -0.034356 -0.032831 -0.019149   \n",
      "61968  0.023491 -0.030126 -0.017999 -0.024407 -0.010055 -0.024113 -0.006058   \n",
      "61969  0.039896  0.015933 -0.015725 -0.024722 -0.035514 -0.031396 -0.016474   \n",
      "\n",
      "            X12       X13       X14  ...       X50       X51       X53  \\\n",
      "0     -0.025469 -0.012541 -0.257295  ... -0.017743  0.156218 -0.018906   \n",
      "1     -0.014684 -0.011254 -0.017094  ... -0.013072 -0.040386 -0.016802   \n",
      "2     -0.015058 -0.011162 -0.017484  ... -0.017177 -0.007341 -0.017590   \n",
      "3     -0.008565 -0.010231  0.006135  ... -0.015761 -0.045545 -0.017177   \n",
      "4      0.003409 -0.009519  0.013462  ...  0.000051 -0.066595 -0.015548   \n",
      "...         ...       ...       ...  ...       ...       ...       ...   \n",
      "61965 -0.007205 -0.009468  0.014232  ... -0.012458 -0.041434 -0.015909   \n",
      "61966 -0.007313 -0.010371  0.017761  ... -0.011876 -0.036895 -0.015291   \n",
      "61967 -0.014236 -0.010948 -0.006464  ... -0.017063  0.034188 -0.017841   \n",
      "61968 -0.013772 -0.010955 -0.004208  ... -0.016958  0.013089 -0.017659   \n",
      "61969 -0.014897 -0.011122 -0.017603  ... -0.017186 -0.032544 -0.017823   \n",
      "\n",
      "            X54       X56       X58       X62       X63       X64      Year  \n",
      "0     -0.019411  0.005598 -0.006091 -0.008469 -0.127717 -0.026396 -0.729970  \n",
      "1     -0.017316  0.005616 -0.006109 -0.009934  0.033371 -0.025765 -1.508513  \n",
      "2     -0.017984  0.005620 -0.006113 -0.009385 -0.099110 -0.027381 -0.729970  \n",
      "3     -0.017012  0.005636 -0.006129 -0.009693 -0.063946 -0.026999  0.048574  \n",
      "4     -0.016063  0.005640 -0.006133 -0.009902  0.009457 -0.026805  0.827117  \n",
      "...         ...       ...       ...       ...       ...       ...       ...  \n",
      "61965 -0.016418  0.005606 -0.006132 -0.009525 -0.079580 -0.026305 -0.729970  \n",
      "61966 -0.015806  0.005660 -0.006153 -0.009735 -0.055101 -0.024967 -0.729970  \n",
      "61967 -0.018142  0.005622 -0.006115 -0.009205 -0.109120 -0.026595  0.048574  \n",
      "61968 -0.017885  0.005625 -0.006119 -0.009480 -0.091514 -0.026564  0.048574  \n",
      "61969 -0.017673  0.005629 -0.006113 -0.009419 -0.096700 -0.027418  0.048574  \n",
      "\n",
      "[61970 rows x 39 columns]\n"
     ]
    }
   ],
   "source": [
    "print(X_train_resamp)"
   ]
  },
  {
   "cell_type": "code",
   "execution_count": 7,
   "id": "39fa892a",
   "metadata": {},
   "outputs": [
    {
     "name": "stdout",
     "output_type": "stream",
     "text": [
      "           X02       X03       X04       X08       X09       X10       X11  \\\n",
      "0     0.041850  0.000586 -0.016785 -0.024753 -0.060127 -0.032264 -0.033668   \n",
      "1    -0.091669  0.131303  0.119831  0.069197 -0.034079  0.027020  0.075168   \n",
      "2     0.070649 -0.042531 -0.018202 -0.025117 -0.025795 -0.045050 -0.045658   \n",
      "3     0.018648  0.010502 -0.016976 -0.024326  0.096629 -0.021962 -0.018427   \n",
      "4    -0.004786 -0.010841 -0.017205 -0.023671 -0.022504 -0.011557  0.017048   \n",
      "...        ...       ...       ...       ...       ...       ...       ...   \n",
      "3131 -0.088789  0.090873  0.033157  0.021884 -0.031488  0.025766 -0.028064   \n",
      "3132  0.000708 -0.006364 -0.017308 -0.023853  0.011853 -0.013996 -0.020567   \n",
      "3133  0.044640 -0.071472 -0.018703 -0.024795  0.078539 -0.033498 -0.000468   \n",
      "3134 -0.013576 -0.028054 -0.017998 -0.023327 -0.033749 -0.007654  0.001809   \n",
      "3135 -0.028781  0.081958 -0.013535 -0.022517 -0.012355 -0.000903 -0.115498   \n",
      "\n",
      "           X12         X13       X14  ...       X50       X51       X53  \\\n",
      "0    -0.015033  133.757406 -0.017834  ... -0.017282 -0.020940 -0.017854   \n",
      "1     0.263056   -0.007436  0.067307  ...  0.115469 -0.081717 -0.011105   \n",
      "2    -0.016266   -0.011207 -0.031173  ... -0.017144  0.048622 -0.018166   \n",
      "3    -0.014515   -0.003926 -0.009246  ... -0.015382  0.037900 -0.016132   \n",
      "4    -0.006905   -0.009964  0.021173  ... -0.017202 -0.035221 -0.017542   \n",
      "...        ...         ...       ...  ...       ...       ...       ...   \n",
      "3131 -0.004265   -0.010810 -0.013445  ...  0.032696 -0.078577 -0.015670   \n",
      "3132 -0.014635   -0.011366 -0.012580  ... -0.015838  0.013923 -0.017152   \n",
      "3133 -0.015532   -0.011302 -0.021736  ... -0.017028  0.066511 -0.017840   \n",
      "3134 -0.011800   -0.010936  0.009947  ... -0.016440  0.000131 -0.017359   \n",
      "3135 -0.024555   -0.012989 -0.084330  ... -0.012073 -0.013325  0.045870   \n",
      "\n",
      "           X54         X56         X58         X62       X63       X64  \\\n",
      "0    -0.017588 -180.415054  180.127001  162.763766 -0.151651 -0.028240   \n",
      "1    -0.011625    0.005681   -0.006173   -0.010110  0.796124 -0.024545   \n",
      "2    -0.018168    0.005613   -0.006105   -0.008812 -0.121583 -0.026687   \n",
      "3    -0.016647    0.005745   -0.006236   -0.009882 -0.002385 -0.007240   \n",
      "4    -0.017760    0.005663   -0.006155   -0.009697 -0.063126 -0.027303   \n",
      "...        ...         ...         ...         ...       ...       ...   \n",
      "3131 -0.016184    0.005622   -0.006115   -0.010076  0.375477 -0.026808   \n",
      "3132 -0.017605    0.005635   -0.006127   -0.009679 -0.066485 -0.024908   \n",
      "3133 -0.018353    0.005618   -0.006115   -0.009776 -0.044555 -0.022893   \n",
      "3134 -0.017846    0.005625   -0.006118   -0.009818 -0.031254 -0.025656   \n",
      "3135  0.045288    0.005586   -0.006088   -0.009636 -0.073620  0.075366   \n",
      "\n",
      "          Year  \n",
      "0    -1.508513  \n",
      "1    -0.729970  \n",
      "2     0.827117  \n",
      "3    -1.508513  \n",
      "4     0.048574  \n",
      "...        ...  \n",
      "3131  0.048574  \n",
      "3132 -0.729970  \n",
      "3133 -0.729970  \n",
      "3134 -0.729970  \n",
      "3135  1.605661  \n",
      "\n",
      "[3136 rows x 39 columns]\n"
     ]
    }
   ],
   "source": [
    "print(X_train_rus)"
   ]
  },
  {
   "cell_type": "code",
   "execution_count": 8,
   "id": "80cdd1e3",
   "metadata": {},
   "outputs": [
    {
     "name": "stdout",
     "output_type": "stream",
     "text": [
      "            X02       X03       X04       X08       X09       X10       X11  \\\n",
      "25162 -0.039049 -0.025318 -0.018181 -0.022973 -0.035122 -0.013729 -0.035424   \n",
      "15362 -0.057620  0.047476 -0.012828 -0.019149 -0.010805  0.011902  0.046414   \n",
      "4236  -0.054234  0.025213 -0.014726 -0.019909 -0.032972  0.009232 -0.006364   \n",
      "33893  0.024996 -0.023946 -0.017795 -0.024459 -0.029464 -0.024780 -0.019124   \n",
      "40333 -0.056477 -0.003534 -0.016555 -0.019379 -0.016365  0.011394 -0.033572   \n",
      "...         ...       ...       ...       ...       ...       ...       ...   \n",
      "10939  0.016483 -0.054493 -0.018889 -0.024627 -0.028996 -0.030689 -0.027983   \n",
      "9520   0.059796 -0.119205 -0.019455 -0.024996 -0.025208 -0.040232 -0.008556   \n",
      "41847 -0.020024  0.023409 -0.015848 -0.023235 -0.034940 -0.008716 -0.035046   \n",
      "38614 -0.012248 -0.032429 -0.018466 -0.023559 -0.034684 -0.011841 -0.040633   \n",
      "33968 -0.040515  0.010662 -0.015448 -0.023110 -0.034938 -0.016339 -0.031364   \n",
      "\n",
      "            X12       X13       X14  ...       X50       X51       X53  \\\n",
      "25162 -0.015121 -0.011138 -0.019208  ... -0.017399 -0.046980 -0.017674   \n",
      "15362  0.000817 -0.009838  0.043705  ... -0.011395 -0.044685 -0.016430   \n",
      "4236  -0.009877 -0.010377  0.003547  ... -0.013215 -0.041003 -0.016853   \n",
      "33893 -0.014367 -0.010980 -0.006695  ... -0.016157  0.045150 -0.017341   \n",
      "40333 -0.014896 -0.011003 -0.018258  ... -0.015099 -0.044829 -0.017156   \n",
      "...         ...       ...       ...  ...       ...       ...       ...   \n",
      "10939 -0.014616 -0.010392 -0.013381  ... -0.017676  0.001815 -0.017890   \n",
      "9520  -0.014240 -0.010611 -0.000798  ... -0.017759  0.081463 -0.018043   \n",
      "41847 -0.015218 -0.011280 -0.018912  ... -0.015036 -0.017009 -0.016999   \n",
      "38614 -0.016022 -0.010884 -0.023287  ... -0.017696 -0.034130 -0.017628   \n",
      "33968 -0.014296 -0.010560 -0.016029  ... -0.015586 -0.045990 -0.017579   \n",
      "\n",
      "            X54       X56       X58       X62       X63       X64      Year  \n",
      "25162 -0.018055  0.005617 -0.006110 -0.009893  0.003693 -0.027217  0.048574  \n",
      "15362 -0.016944  0.005638 -0.006134 -0.009871 -0.008315 -0.026119 -0.729970  \n",
      "4236  -0.017367  0.005630 -0.006123 -0.009713 -0.059919 -0.027079 -1.508513  \n",
      "33893 -0.017854  0.005726 -0.006218 -0.008691 -0.124082 -0.026424  0.827117  \n",
      "40333 -0.017669  0.005618 -0.006112 -0.009836 -0.024015 -0.027172  1.605661  \n",
      "...         ...       ...       ...       ...       ...       ...       ...  \n",
      "10939 -0.018171  0.005649 -0.006142 -0.008138 -0.131649 -0.027891 -0.729970  \n",
      "9520  -0.018556  0.005631 -0.006121 -0.008511 -0.127105 -0.027304 -0.729970  \n",
      "41847 -0.017339  0.005618 -0.006111 -0.009943  0.041140 -0.023151  1.605661  \n",
      "38614 -0.017904  0.005619 -0.006112 -0.009450 -0.094292 -0.027713  1.605661  \n",
      "33968 -0.017934  0.005618 -0.006111 -0.009247 -0.107156 -0.027834  0.827117  \n",
      "\n",
      "[10852 rows x 39 columns]\n"
     ]
    }
   ],
   "source": [
    "#print scaled test data\n",
    "print(X_test)"
   ]
  },
  {
   "cell_type": "code",
   "execution_count": 9,
   "id": "f09ef742",
   "metadata": {},
   "outputs": [
    {
     "name": "stdout",
     "output_type": "stream",
     "text": [
      "       Class\n",
      "12113      0\n",
      "3289       0\n",
      "16567      0\n",
      "21367      0\n",
      "32394      0\n",
      "...      ...\n",
      "24299      0\n",
      "41350      0\n",
      "38703      0\n",
      "12352      0\n",
      "24962      0\n",
      "\n",
      "[32553 rows x 1 columns]\n"
     ]
    }
   ],
   "source": [
    "#print y train data\n",
    "print(y_train)"
   ]
  },
  {
   "cell_type": "code",
   "execution_count": 10,
   "id": "9c3e157d",
   "metadata": {},
   "outputs": [
    {
     "name": "stdout",
     "output_type": "stream",
     "text": [
      "       Class\n",
      "0          0\n",
      "1          0\n",
      "2          0\n",
      "3          0\n",
      "4          0\n",
      "...      ...\n",
      "61965      1\n",
      "61966      1\n",
      "61967      1\n",
      "61968      1\n",
      "61969      1\n",
      "\n",
      "[61970 rows x 1 columns]\n"
     ]
    }
   ],
   "source": [
    "print(y_train_resamp)"
   ]
  },
  {
   "cell_type": "code",
   "execution_count": 11,
   "id": "8c014307",
   "metadata": {},
   "outputs": [
    {
     "name": "stdout",
     "output_type": "stream",
     "text": [
      "      Class\n",
      "0         0\n",
      "1         0\n",
      "2         0\n",
      "3         0\n",
      "4         0\n",
      "...     ...\n",
      "3131      1\n",
      "3132      1\n",
      "3133      1\n",
      "3134      1\n",
      "3135      1\n",
      "\n",
      "[3136 rows x 1 columns]\n"
     ]
    }
   ],
   "source": [
    "print(y_train_rus)"
   ]
  },
  {
   "cell_type": "code",
   "execution_count": 12,
   "id": "c9febacb",
   "metadata": {},
   "outputs": [
    {
     "name": "stdout",
     "output_type": "stream",
     "text": [
      "       Class\n",
      "25162      0\n",
      "15362      0\n",
      "4236       0\n",
      "33893      0\n",
      "40333      0\n",
      "...      ...\n",
      "10939      0\n",
      "9520       0\n",
      "41847      0\n",
      "38614      0\n",
      "33968      0\n",
      "\n",
      "[10852 rows x 1 columns]\n"
     ]
    }
   ],
   "source": [
    "#print y test data\n",
    "print(y_test)"
   ]
  },
  {
   "cell_type": "markdown",
   "id": "5ecbc3c9",
   "metadata": {},
   "source": [
    "## Create Logistic Regression object"
   ]
  },
  {
   "cell_type": "code",
   "execution_count": 13,
   "id": "f0861275",
   "metadata": {},
   "outputs": [
    {
     "data": {
      "text/plain": [
       "LogisticRegression(max_iter=1000)"
      ]
     },
     "execution_count": 13,
     "metadata": {},
     "output_type": "execute_result"
    }
   ],
   "source": [
    "# create the regression object\n",
    "clf1 = LogisticRegression(max_iter=1000)\n",
    "# fit the scaled and training data\n",
    "clf1.fit(X_train, y_train.values.ravel())"
   ]
  },
  {
   "cell_type": "code",
   "execution_count": 14,
   "id": "70c2795e",
   "metadata": {},
   "outputs": [],
   "source": [
    "# run the regression model\n",
    "y_test_pred_lr1 = clf1.predict(X_test)\n",
    "y_train_pred_lr1 = clf1.predict(X_train)"
   ]
  },
  {
   "cell_type": "markdown",
   "id": "a7ae903f",
   "metadata": {},
   "source": [
    "## Print Logistic Accuracy"
   ]
  },
  {
   "cell_type": "code",
   "execution_count": 15,
   "id": "e5e788bb",
   "metadata": {},
   "outputs": [
    {
     "name": "stdout",
     "output_type": "stream",
     "text": [
      "\n",
      "\n",
      "[Test] Accuracy score: (y_test, y_test_pred_lr1) 0.9516218208625138\n",
      "\n",
      "\n",
      "[Training] Accuracy score: (y_train, y_train_pred_lr1) 0.9518631155346665\n"
     ]
    }
   ],
   "source": [
    "# print test accuracy\n",
    "print(\"\\n\")\n",
    "print(\"[Test] Accuracy score: (y_test, y_test_pred_lr1)\",accuracy_score(y_test, y_test_pred_lr1))\n",
    "\n",
    "# print training accuracy\n",
    "print(\"\\n\")\n",
    "print(\"[Training] Accuracy score: (y_train, y_train_pred_lr1)\",accuracy_score(y_train, y_train_pred_lr1))"
   ]
  },
  {
   "cell_type": "markdown",
   "id": "795e8baf",
   "metadata": {},
   "source": [
    "## Print Logistic Classification"
   ]
  },
  {
   "cell_type": "code",
   "execution_count": 16,
   "id": "380a0198",
   "metadata": {},
   "outputs": [
    {
     "name": "stdout",
     "output_type": "stream",
     "text": [
      "[Training Classification Report]\n",
      "              precision    recall  f1-score   support\n",
      "\n",
      "           0       0.95      1.00      0.98     30985\n",
      "           1       0.52      0.01      0.01      1568\n",
      "\n",
      "    accuracy                           0.95     32553\n",
      "   macro avg       0.74      0.50      0.49     32553\n",
      "weighted avg       0.93      0.95      0.93     32553\n",
      "\n",
      "[Test Classification Report]\n",
      "              precision    recall  f1-score   support\n",
      "\n",
      "           0       0.95      1.00      0.98     10329\n",
      "           1       0.40      0.01      0.02       523\n",
      "\n",
      "    accuracy                           0.95     10852\n",
      "   macro avg       0.68      0.50      0.50     10852\n",
      "weighted avg       0.93      0.95      0.93     10852\n",
      "\n"
     ]
    }
   ],
   "source": [
    "# print classification scores  0 is non bankrupt entities 1 is bankrupt entitiies\n",
    "print(\"[Training Classification Report]\")\n",
    "print(classification_report(y_train, y_train_pred_lr1))\n",
    "\n",
    "print(\"[Test Classification Report]\")\n",
    "print(classification_report(y_test, y_test_pred_lr1))"
   ]
  },
  {
   "cell_type": "markdown",
   "id": "1bbeb3a3",
   "metadata": {},
   "source": [
    "## Logistic Regression on Oversampled data"
   ]
  },
  {
   "cell_type": "code",
   "execution_count": 17,
   "id": "4c633f2f",
   "metadata": {},
   "outputs": [
    {
     "data": {
      "text/plain": [
       "LogisticRegression(max_iter=1000)"
      ]
     },
     "execution_count": 17,
     "metadata": {},
     "output_type": "execute_result"
    }
   ],
   "source": [
    "clf2 = LogisticRegression(max_iter=1000)\n",
    "# fit the scaled and training data\n",
    "clf2.fit(X_train_resamp, y_train_resamp.values.ravel())"
   ]
  },
  {
   "cell_type": "code",
   "execution_count": 18,
   "id": "e7643e37",
   "metadata": {},
   "outputs": [],
   "source": [
    "y_test_pred_lr2 = clf2.predict(X_test)\n",
    "y_train_pred_lr2 = clf2.predict(X_train_resamp)"
   ]
  },
  {
   "cell_type": "markdown",
   "id": "a2c4e6e0",
   "metadata": {},
   "source": [
    "## Accuracy of Oversampled data"
   ]
  },
  {
   "cell_type": "code",
   "execution_count": 19,
   "id": "d1f12ae4",
   "metadata": {},
   "outputs": [
    {
     "name": "stdout",
     "output_type": "stream",
     "text": [
      "\n",
      "\n",
      "[Test] Accuracy score: (y_test, y_test_pred_lr2) 0.6904718024327313\n"
     ]
    }
   ],
   "source": [
    "# print test accuracy\n",
    "print(\"\\n\")\n",
    "print(\"[Test] Accuracy score: (y_test, y_test_pred_lr2)\",accuracy_score(y_test, y_test_pred_lr2))"
   ]
  },
  {
   "cell_type": "markdown",
   "id": "8c5bac92",
   "metadata": {},
   "source": [
    "## Classification Report of Oversampled data"
   ]
  },
  {
   "cell_type": "code",
   "execution_count": 20,
   "id": "93a34416",
   "metadata": {},
   "outputs": [
    {
     "name": "stdout",
     "output_type": "stream",
     "text": [
      "[Test Classification Report]\n",
      "              precision    recall  f1-score   support\n",
      "\n",
      "           0       0.97      0.69      0.81     10329\n",
      "           1       0.09      0.63      0.16       523\n",
      "\n",
      "    accuracy                           0.69     10852\n",
      "   macro avg       0.53      0.66      0.49     10852\n",
      "weighted avg       0.93      0.69      0.78     10852\n",
      "\n"
     ]
    }
   ],
   "source": [
    "# print classification scores  0 is non bankrupt entities 1 is bankrupt entitiies\n",
    "print(\"[Test Classification Report]\")\n",
    "print(classification_report(y_test, y_test_pred_lr2))"
   ]
  },
  {
   "cell_type": "markdown",
   "id": "bba099e6",
   "metadata": {},
   "source": [
    "## Logistic Regression of Undersampled data"
   ]
  },
  {
   "cell_type": "code",
   "execution_count": 21,
   "id": "290fd938",
   "metadata": {},
   "outputs": [
    {
     "data": {
      "text/plain": [
       "LogisticRegression(max_iter=1000)"
      ]
     },
     "execution_count": 21,
     "metadata": {},
     "output_type": "execute_result"
    }
   ],
   "source": [
    "clf3 = LogisticRegression(max_iter=1000)\n",
    "# fit the scaled and training data\n",
    "clf3.fit(X_train_rus, y_train_rus.values.ravel())"
   ]
  },
  {
   "cell_type": "code",
   "execution_count": 22,
   "id": "73c67b99",
   "metadata": {},
   "outputs": [],
   "source": [
    "y_test_pred_lr3 = clf3.predict(X_test)\n",
    "y_train_pred_lr3 = clf3.predict(X_train_rus)"
   ]
  },
  {
   "cell_type": "markdown",
   "id": "69e58506",
   "metadata": {},
   "source": [
    "## Accuracy of Undersampled data"
   ]
  },
  {
   "cell_type": "code",
   "execution_count": 23,
   "id": "4115990c",
   "metadata": {},
   "outputs": [
    {
     "name": "stdout",
     "output_type": "stream",
     "text": [
      "\n",
      "\n",
      "[Test] Accuracy score: (y_test, y_test_pred_lr3) 0.7175635827497235\n"
     ]
    }
   ],
   "source": [
    "# print test accuracy\n",
    "print(\"\\n\")\n",
    "print(\"[Test] Accuracy score: (y_test, y_test_pred_lr3)\",accuracy_score(y_test, y_test_pred_lr3))"
   ]
  },
  {
   "cell_type": "markdown",
   "id": "ec2f9dd8",
   "metadata": {},
   "source": [
    "## Classification Report of Undersampled data"
   ]
  },
  {
   "cell_type": "code",
   "execution_count": 24,
   "id": "872d14cc",
   "metadata": {},
   "outputs": [
    {
     "name": "stdout",
     "output_type": "stream",
     "text": [
      "[Test Classification Report]\n",
      "              precision    recall  f1-score   support\n",
      "\n",
      "           0       0.97      0.72      0.83     10329\n",
      "           1       0.10      0.62      0.17       523\n",
      "\n",
      "    accuracy                           0.72     10852\n",
      "   macro avg       0.54      0.67      0.50     10852\n",
      "weighted avg       0.93      0.72      0.80     10852\n",
      "\n"
     ]
    }
   ],
   "source": [
    "print(\"[Test Classification Report]\")\n",
    "print(classification_report(y_test, y_test_pred_lr3))"
   ]
  },
  {
   "cell_type": "markdown",
   "id": "9e69ab8d",
   "metadata": {},
   "source": [
    "## Create XGB Object"
   ]
  },
  {
   "cell_type": "code",
   "execution_count": 25,
   "id": "ed84919c",
   "metadata": {},
   "outputs": [
    {
     "name": "stderr",
     "output_type": "stream",
     "text": [
      "C:\\ProgramData\\Anaconda3\\lib\\site-packages\\xgboost\\sklearn.py:1146: UserWarning: The use of label encoder in XGBClassifier is deprecated and will be removed in a future release. To remove this warning, do the following: 1) Pass option use_label_encoder=False when constructing XGBClassifier object; and 2) Encode your labels (y) as integers starting with 0, i.e. 0, 1, 2, ..., [num_class - 1].\n",
      "  warnings.warn(label_encoder_deprecation_msg, UserWarning)\n"
     ]
    },
    {
     "name": "stdout",
     "output_type": "stream",
     "text": [
      "[11:42:28] WARNING: C:/Users/Administrator/workspace/xgboost-win64_release_1.4.0/src/learner.cc:1095: Starting in XGBoost 1.3.0, the default evaluation metric used with the objective 'binary:logistic' was changed from 'error' to 'logloss'. Explicitly set eval_metric if you'd like to restore the old behavior.\n"
     ]
    }
   ],
   "source": [
    "xgb1 = XGBClassifier()\n",
    "xgb1.fit(X_train, y_train.values.ravel())\n",
    "\n",
    "y_test_pred_xgb1 = xgb1.predict(X_test)\n",
    "y_train_pred_xgb1 = xgb1.predict(X_train)"
   ]
  },
  {
   "cell_type": "markdown",
   "id": "1b260471",
   "metadata": {},
   "source": [
    "## Print XGB Accuracy"
   ]
  },
  {
   "cell_type": "code",
   "execution_count": 26,
   "id": "8e696a80",
   "metadata": {},
   "outputs": [
    {
     "name": "stdout",
     "output_type": "stream",
     "text": [
      "Accuracy: 95.60%\n"
     ]
    }
   ],
   "source": [
    "accuracy = accuracy_score(y_test, y_test_pred_xgb1)\n",
    "print(\"Accuracy: %.2f%%\" % (accuracy * 100.0))"
   ]
  },
  {
   "cell_type": "markdown",
   "id": "dac270b7",
   "metadata": {},
   "source": [
    "##  Print XGB Classification Report"
   ]
  },
  {
   "cell_type": "code",
   "execution_count": 27,
   "id": "0eec4177",
   "metadata": {},
   "outputs": [
    {
     "name": "stdout",
     "output_type": "stream",
     "text": [
      "[Training Classification Report]\n",
      "              precision    recall  f1-score   support\n",
      "\n",
      "           0       0.99      1.00      1.00     30985\n",
      "           1       1.00      0.86      0.92      1568\n",
      "\n",
      "    accuracy                           0.99     32553\n",
      "   macro avg       1.00      0.93      0.96     32553\n",
      "weighted avg       0.99      0.99      0.99     32553\n",
      "\n",
      "[Test Classification Report]\n",
      "              precision    recall  f1-score   support\n",
      "\n",
      "           0       0.96      0.99      0.98     10329\n",
      "           1       0.62      0.22      0.33       523\n",
      "\n",
      "    accuracy                           0.96     10852\n",
      "   macro avg       0.79      0.61      0.65     10852\n",
      "weighted avg       0.95      0.96      0.95     10852\n",
      "\n"
     ]
    }
   ],
   "source": [
    "# print classification scores  0 is non bankrupt entities 1 is bankrupt entitiies\n",
    "print(\"[Training Classification Report]\")\n",
    "print(classification_report(y_train, y_train_pred_xgb1))\n",
    "\n",
    "print(\"[Test Classification Report]\")\n",
    "print(classification_report(y_test, y_test_pred_xgb1))"
   ]
  },
  {
   "cell_type": "markdown",
   "id": "2e80da46",
   "metadata": {},
   "source": [
    "## XGB object with Oversampled data"
   ]
  },
  {
   "cell_type": "code",
   "execution_count": 28,
   "id": "25d623ef",
   "metadata": {},
   "outputs": [
    {
     "name": "stderr",
     "output_type": "stream",
     "text": [
      "C:\\ProgramData\\Anaconda3\\lib\\site-packages\\xgboost\\sklearn.py:1146: UserWarning: The use of label encoder in XGBClassifier is deprecated and will be removed in a future release. To remove this warning, do the following: 1) Pass option use_label_encoder=False when constructing XGBClassifier object; and 2) Encode your labels (y) as integers starting with 0, i.e. 0, 1, 2, ..., [num_class - 1].\n",
      "  warnings.warn(label_encoder_deprecation_msg, UserWarning)\n"
     ]
    },
    {
     "name": "stdout",
     "output_type": "stream",
     "text": [
      "[11:42:37] WARNING: C:/Users/Administrator/workspace/xgboost-win64_release_1.4.0/src/learner.cc:1095: Starting in XGBoost 1.3.0, the default evaluation metric used with the objective 'binary:logistic' was changed from 'error' to 'logloss'. Explicitly set eval_metric if you'd like to restore the old behavior.\n"
     ]
    }
   ],
   "source": [
    "xgb2 = XGBClassifier()\n",
    "xgb2.fit(X_train_resamp, y_train_resamp.values.ravel())\n",
    "\n",
    "y_test_pred_xgb2 = xgb2.predict(X_test)\n",
    "y_train_pred_xgb2 = xgb2.predict(X_train_resamp)"
   ]
  },
  {
   "cell_type": "markdown",
   "id": "dca33b51",
   "metadata": {},
   "source": [
    "## XGB Accuracy with Oversampled data"
   ]
  },
  {
   "cell_type": "code",
   "execution_count": 29,
   "id": "8d7cb569",
   "metadata": {},
   "outputs": [
    {
     "name": "stdout",
     "output_type": "stream",
     "text": [
      "Accuracy: 91.83%\n"
     ]
    }
   ],
   "source": [
    "accuracy = accuracy_score(y_test, y_test_pred_xgb2)\n",
    "print(\"Accuracy: %.2f%%\" % (accuracy * 100.0))"
   ]
  },
  {
   "cell_type": "markdown",
   "id": "1c01a69b",
   "metadata": {},
   "source": [
    "## XGB Classification report of Oversampled data"
   ]
  },
  {
   "cell_type": "code",
   "execution_count": 30,
   "id": "f7bba2ae",
   "metadata": {},
   "outputs": [
    {
     "name": "stdout",
     "output_type": "stream",
     "text": [
      "[Test Classification Report]\n",
      "              precision    recall  f1-score   support\n",
      "\n",
      "           0       0.98      0.93      0.96     10329\n",
      "           1       0.32      0.59      0.41       523\n",
      "\n",
      "    accuracy                           0.92     10852\n",
      "   macro avg       0.65      0.76      0.68     10852\n",
      "weighted avg       0.95      0.92      0.93     10852\n",
      "\n"
     ]
    }
   ],
   "source": [
    "print(\"[Test Classification Report]\")\n",
    "print(classification_report(y_test, y_test_pred_xgb2))"
   ]
  },
  {
   "cell_type": "markdown",
   "id": "a9012abf",
   "metadata": {},
   "source": [
    "## XGB Object with Undersampled data "
   ]
  },
  {
   "cell_type": "code",
   "execution_count": 31,
   "id": "c7c39da5",
   "metadata": {},
   "outputs": [
    {
     "name": "stdout",
     "output_type": "stream",
     "text": [
      "[11:42:55] WARNING: C:/Users/Administrator/workspace/xgboost-win64_release_1.4.0/src/learner.cc:1095: Starting in XGBoost 1.3.0, the default evaluation metric used with the objective 'binary:logistic' was changed from 'error' to 'logloss'. Explicitly set eval_metric if you'd like to restore the old behavior.\n"
     ]
    },
    {
     "name": "stderr",
     "output_type": "stream",
     "text": [
      "C:\\ProgramData\\Anaconda3\\lib\\site-packages\\xgboost\\sklearn.py:1146: UserWarning: The use of label encoder in XGBClassifier is deprecated and will be removed in a future release. To remove this warning, do the following: 1) Pass option use_label_encoder=False when constructing XGBClassifier object; and 2) Encode your labels (y) as integers starting with 0, i.e. 0, 1, 2, ..., [num_class - 1].\n",
      "  warnings.warn(label_encoder_deprecation_msg, UserWarning)\n"
     ]
    },
    {
     "data": {
      "text/plain": [
       "XGBClassifier(base_score=0.5, booster='gbtree', colsample_bylevel=1,\n",
       "              colsample_bynode=1, colsample_bytree=1, gamma=0, gpu_id=-1,\n",
       "              importance_type='gain', interaction_constraints='',\n",
       "              learning_rate=0.300000012, max_delta_step=0, max_depth=6,\n",
       "              min_child_weight=1, missing=nan, monotone_constraints='()',\n",
       "              n_estimators=100, n_jobs=4, num_parallel_tree=1, random_state=0,\n",
       "              reg_alpha=0, reg_lambda=1, scale_pos_weight=1, subsample=1,\n",
       "              tree_method='exact', validate_parameters=1, verbosity=None)"
      ]
     },
     "execution_count": 31,
     "metadata": {},
     "output_type": "execute_result"
    }
   ],
   "source": [
    "xgb3 = XGBClassifier()\n",
    "# fit the scaled and training data\n",
    "xgb3.fit(X_train_rus, y_train_rus.values.ravel())"
   ]
  },
  {
   "cell_type": "code",
   "execution_count": 32,
   "id": "881723fb",
   "metadata": {},
   "outputs": [],
   "source": [
    "y_test_pred_xgb3 = xgb3.predict(X_test)\n",
    "y_train_pred_xgb3 = xgb3.predict(X_train_rus)"
   ]
  },
  {
   "cell_type": "markdown",
   "id": "3ae23107",
   "metadata": {},
   "source": [
    "## XGB Accuracy with Undersampled data"
   ]
  },
  {
   "cell_type": "code",
   "execution_count": 33,
   "id": "fa60e251",
   "metadata": {},
   "outputs": [
    {
     "name": "stdout",
     "output_type": "stream",
     "text": [
      "\n",
      "\n",
      "[Test] Accuracy score: (y_test, y_test_pred_xgb3) 0.7746959085882786\n"
     ]
    }
   ],
   "source": [
    "# print test accuracy\n",
    "print(\"\\n\")\n",
    "print(\"[Test] Accuracy score: (y_test, y_test_pred_xgb3)\",accuracy_score(y_test, y_test_pred_xgb3))"
   ]
  },
  {
   "cell_type": "markdown",
   "id": "7e136473",
   "metadata": {},
   "source": [
    "## Accuracy report with Undersampled data"
   ]
  },
  {
   "cell_type": "code",
   "execution_count": 34,
   "id": "fb6f8fbd",
   "metadata": {},
   "outputs": [
    {
     "name": "stdout",
     "output_type": "stream",
     "text": [
      "[Test Classification Report]\n",
      "              precision    recall  f1-score   support\n",
      "\n",
      "           0       0.99      0.77      0.87     10329\n",
      "           1       0.15      0.80      0.25       523\n",
      "\n",
      "    accuracy                           0.77     10852\n",
      "   macro avg       0.57      0.78      0.56     10852\n",
      "weighted avg       0.95      0.77      0.84     10852\n",
      "\n"
     ]
    }
   ],
   "source": [
    "print(\"[Test Classification Report]\")\n",
    "print(classification_report(y_test, y_test_pred_xgb3))"
   ]
  },
  {
   "cell_type": "markdown",
   "id": "3f40f790",
   "metadata": {},
   "source": [
    "## Create Random Forest object"
   ]
  },
  {
   "cell_type": "code",
   "execution_count": 35,
   "id": "0fbfde96",
   "metadata": {},
   "outputs": [],
   "source": [
    "rfc1 = RandomForestClassifier(n_estimators=100)\n",
    "rfc1.fit(X_train, y_train.values.ravel())\n",
    "\n",
    "y_test_pred_rfc1 = rfc1.predict(X_test)\n",
    "y_train_pred_rfc1 = rfc1.predict(X_train)"
   ]
  },
  {
   "cell_type": "markdown",
   "id": "abfa4659",
   "metadata": {},
   "source": [
    "## Random Forest Accuracy"
   ]
  },
  {
   "cell_type": "code",
   "execution_count": 36,
   "id": "1f756c78",
   "metadata": {},
   "outputs": [
    {
     "name": "stdout",
     "output_type": "stream",
     "text": [
      "Accuracy: 94.85%\n"
     ]
    }
   ],
   "source": [
    "accuracy = accuracy_score(y_test, y_test_pred_rfc1)\n",
    "print(\"Accuracy: %.2f%%\" % (accuracy * 100.0))"
   ]
  },
  {
   "cell_type": "markdown",
   "id": "24337cf9",
   "metadata": {},
   "source": [
    "## Random Forest Classification Report"
   ]
  },
  {
   "cell_type": "code",
   "execution_count": 37,
   "id": "7d37f3f2",
   "metadata": {},
   "outputs": [
    {
     "name": "stdout",
     "output_type": "stream",
     "text": [
      "[Test Classification Report]\n",
      "              precision    recall  f1-score   support\n",
      "\n",
      "           0       0.95      0.99      0.97     10329\n",
      "           1       0.33      0.07      0.11       523\n",
      "\n",
      "    accuracy                           0.95     10852\n",
      "   macro avg       0.64      0.53      0.54     10852\n",
      "weighted avg       0.92      0.95      0.93     10852\n",
      "\n"
     ]
    }
   ],
   "source": [
    "# print classification scores  0 is non bankrupt entities 1 is bankrupt entitiies\n",
    "print(\"[Test Classification Report]\")\n",
    "print(classification_report(y_test, y_test_pred_rfc1))"
   ]
  },
  {
   "cell_type": "markdown",
   "id": "d31e8121",
   "metadata": {},
   "source": [
    "## Random Forest with Oversampling"
   ]
  },
  {
   "cell_type": "code",
   "execution_count": 38,
   "id": "822458fd",
   "metadata": {},
   "outputs": [],
   "source": [
    "rfc2 = RandomForestClassifier(n_estimators=100)\n",
    "# fit the scaled and training data\n",
    "rfc2.fit(X_train_resamp, y_train_resamp.values.ravel())\n",
    "\n",
    "y_test_pred_rfc2 = rfc2.predict(X_test)\n",
    "y_train_pred_rfc2 = rfc2.predict(X_train_resamp)"
   ]
  },
  {
   "cell_type": "markdown",
   "id": "5b991611",
   "metadata": {},
   "source": [
    "## Random Forest Accuracy with Oversampling"
   ]
  },
  {
   "cell_type": "code",
   "execution_count": 39,
   "id": "b9c601bb",
   "metadata": {},
   "outputs": [
    {
     "name": "stdout",
     "output_type": "stream",
     "text": [
      "Accuracy: 92.74%\n"
     ]
    }
   ],
   "source": [
    "accuracy = accuracy_score(y_test, y_test_pred_rfc2)\n",
    "print(\"Accuracy: %.2f%%\" % (accuracy * 100.0))"
   ]
  },
  {
   "cell_type": "markdown",
   "id": "99277a0c",
   "metadata": {},
   "source": [
    "## Classification Report with Oversampling "
   ]
  },
  {
   "cell_type": "code",
   "execution_count": 40,
   "id": "0a2fab38",
   "metadata": {},
   "outputs": [
    {
     "name": "stdout",
     "output_type": "stream",
     "text": [
      "[Test Classification Report]\n",
      "              precision    recall  f1-score   support\n",
      "\n",
      "           0       0.97      0.96      0.96     10329\n",
      "           1       0.30      0.37      0.33       523\n",
      "\n",
      "    accuracy                           0.93     10852\n",
      "   macro avg       0.63      0.67      0.65     10852\n",
      "weighted avg       0.94      0.93      0.93     10852\n",
      "\n"
     ]
    }
   ],
   "source": [
    "# print classification scores  0 is non bankrupt entities 1 is bankrupt entitiies\n",
    "print(\"[Test Classification Report]\")\n",
    "print(classification_report(y_test, y_test_pred_rfc2))"
   ]
  },
  {
   "cell_type": "markdown",
   "id": "179b5644",
   "metadata": {},
   "source": [
    "## Random Forest object with Undersampling"
   ]
  },
  {
   "cell_type": "code",
   "execution_count": 41,
   "id": "d2a381d3",
   "metadata": {},
   "outputs": [
    {
     "data": {
      "text/plain": [
       "RandomForestClassifier()"
      ]
     },
     "execution_count": 41,
     "metadata": {},
     "output_type": "execute_result"
    }
   ],
   "source": [
    "rfc3 = RandomForestClassifier(n_estimators=100)\n",
    "# fit the scaled and training data\n",
    "rfc3.fit(X_train_rus, y_train_rus.values.ravel())"
   ]
  },
  {
   "cell_type": "code",
   "execution_count": 42,
   "id": "1a333ad9",
   "metadata": {},
   "outputs": [],
   "source": [
    "y_test_pred_rfc3 = rfc3.predict(X_test)\n",
    "y_train_pred_rfc3 = rfc3.predict(X_train_rus)"
   ]
  },
  {
   "cell_type": "markdown",
   "id": "5319cd81",
   "metadata": {},
   "source": [
    "## Random Forest Accuracy with Undersampling"
   ]
  },
  {
   "cell_type": "code",
   "execution_count": 43,
   "id": "e9e9e6ad",
   "metadata": {},
   "outputs": [
    {
     "name": "stdout",
     "output_type": "stream",
     "text": [
      "Accuracy: 72.67%\n"
     ]
    }
   ],
   "source": [
    "accuracy = accuracy_score(y_test, y_test_pred_rfc3)\n",
    "print(\"Accuracy: %.2f%%\" % (accuracy * 100.0))"
   ]
  },
  {
   "cell_type": "markdown",
   "id": "fc2ee5ca",
   "metadata": {},
   "source": [
    "## Classification Report with Undersampling"
   ]
  },
  {
   "cell_type": "code",
   "execution_count": 44,
   "id": "1c67b83f",
   "metadata": {},
   "outputs": [
    {
     "name": "stdout",
     "output_type": "stream",
     "text": [
      "[Test Classification Report]\n",
      "              precision    recall  f1-score   support\n",
      "\n",
      "           0       0.98      0.73      0.83     10329\n",
      "           1       0.12      0.76      0.21       523\n",
      "\n",
      "    accuracy                           0.73     10852\n",
      "   macro avg       0.55      0.74      0.52     10852\n",
      "weighted avg       0.94      0.73      0.80     10852\n",
      "\n"
     ]
    }
   ],
   "source": [
    "# print classification scores  0 is non bankrupt entities 1 is bankrupt entitiies\n",
    "print(\"[Test Classification Report]\")\n",
    "print(classification_report(y_test, y_test_pred_rfc3))"
   ]
  },
  {
   "cell_type": "markdown",
   "id": "b2c2077a",
   "metadata": {},
   "source": [
    "## Testing Data Classification Summary"
   ]
  },
  {
   "cell_type": "raw",
   "id": "b32cb060",
   "metadata": {},
   "source": [
    "                                   precision    recall  \n",
    "_______________________________________________________\n",
    "Logistic Regression          0    |   0.95   |  1.00\n",
    "                             1    |   0.40   |  0.01\n",
    "__________________________________|__________|________\n",
    "Logistic Regression          0    |   0.97   |  0.69\n",
    "with Oversampling            1    |   0.09   |  0.63\n",
    "__________________________________|__________|________\n",
    "Logistic Regression          0    |   0.97   |  0.72\n",
    "with Undersampling           1    |   0.10   |  0.60\n",
    "__________________________________|__________|________\n",
    "XGB                          0    |   0.96   |  0.99\n",
    "                             1    |   0.62   |  0.22\n",
    "__________________________________|__________|________\n",
    "XGB with Oversampling        0    |   0.98   |  0.94\n",
    "                             1    |   0.32   |  0.59 \n",
    "__________________________________|__________|________\n",
    "XGB with Undersampling       0    |   0.99   |   0.77 \n",
    "                             1    |   0.15   |   0.79\n",
    "__________________________________|__________|________                              \n",
    "Random Forest                0    |   0.95   |   0.99 \n",
    "                             1    |   0.36   |   0.07    \n",
    "__________________________________|__________|________\n",
    "Random Forest                0    |   0.97   |   0.95\n",
    "with Oversampling            1    |   0.30   |   0.38\n",
    "__________________________________|__________|________\n",
    "Rqndom Forest                0    |   0.99   |   0.74 \n",
    "with Undersampling           1    |   0.13   |   0.79\n"
   ]
  },
  {
   "cell_type": "markdown",
   "id": "0347b670",
   "metadata": {},
   "source": [
    "## Random Forest Hyperparameter Tuning"
   ]
  },
  {
   "cell_type": "code",
   "execution_count": 45,
   "id": "0e0a10d8",
   "metadata": {},
   "outputs": [],
   "source": [
    "# create random forest parameter grid\n",
    "#param_grid = { \n",
    "#    'n_estimators': [100,200,300,400],\n",
    "#    'max_features': ['auto', 'sqrt', 'log2'],\n",
    "#    'max_depth' : [4,5,6,7,8,9,10,11,12],\n",
    "#    'criterion' :['gini', 'entropy']\n",
    "#}\n",
    "\n",
    "#create random forest clasifier object\n",
    "#rfc4 = RandomForestClassifier()"
   ]
  },
  {
   "cell_type": "code",
   "execution_count": 46,
   "id": "1e9ec50c",
   "metadata": {},
   "outputs": [],
   "source": [
    "#run grid search with parameter grid and random forest classifier\n",
    "#CV_rfc4 = GridSearchCV(estimator=rfc4, param_grid=param_grid, cv= 5)\n",
    "#CV_rfc4.fit(X_train, y_train.values.ravel())"
   ]
  },
  {
   "cell_type": "code",
   "execution_count": 47,
   "id": "681bd072",
   "metadata": {},
   "outputs": [],
   "source": [
    "# determine best parameters\n",
    "#CV_rfc4.best_params_"
   ]
  },
  {
   "cell_type": "code",
   "execution_count": 48,
   "id": "0e6572af",
   "metadata": {},
   "outputs": [],
   "source": [
    "#run random forest using best parameters\n",
    "#CV_rfc4=RandomForestClassifier(max_features='auto', n_estimators= 100, max_depth=8, criterion='entropy')\n",
    "\n",
    "# fit random forest using best parameters\n",
    "#CV_rfc4.fit(X_train, y_train.values.ravel())\n",
    "\n",
    "#predict on test data\n",
    "#y_test_pred_rfc4 = CV_rfc4.predict(X_test)"
   ]
  },
  {
   "cell_type": "code",
   "execution_count": 49,
   "id": "f0371011",
   "metadata": {},
   "outputs": [],
   "source": [
    "#print accuracy \n",
    "#accuracy = accuracy_score(y_test, y_test_pred_rfc4)\n",
    "#print(\"Accuracy: %.2f%%\" % (accuracy * 100.0))"
   ]
  },
  {
   "cell_type": "markdown",
   "id": "3ca7dbdf",
   "metadata": {},
   "source": [
    "## Random Forest Classification"
   ]
  },
  {
   "cell_type": "code",
   "execution_count": 50,
   "id": "255d7649",
   "metadata": {},
   "outputs": [],
   "source": [
    "# print classification scores  0 is non bankrupt entities 1 is bankrupt entitiies\n",
    "#print(\"[Test Classification Report]\")\n",
    "#print(classification_report(y_test, y_test_pred_rfc4))"
   ]
  },
  {
   "cell_type": "markdown",
   "id": "cffb383d",
   "metadata": {},
   "source": [
    "## XGBoost Hyperparameter Tuning"
   ]
  },
  {
   "cell_type": "code",
   "execution_count": 51,
   "id": "3124994d",
   "metadata": {},
   "outputs": [],
   "source": [
    "# create XGB parameter grid\n",
    "#param_grid2 = {\n",
    "#        'max_depth': [3, 4, 5, 6, 7, 8, 9, 10]\n",
    "#        'min_child_weight': [1,3,5,7],\n",
    "#        'gamma': [0.0,0.1,0.2,0.3],\n",
    "#        'learning_rate': [.1,.2,.3,.4],\n",
    "#        'subsample': [.6,.7,.8,.9],\n",
    "#        'colsample_bytree': [.6,.7,.8,.9],\n",
    "#        'n_estimators' : [100,200,300,400]                                  \n",
    "#{  \n",
    "    \n",
    "#create XGB classifier object\n",
    "#xgb4 = XGBClassifier()"
   ]
  },
  {
   "cell_type": "code",
   "execution_count": 52,
   "id": "6cbbd18e",
   "metadata": {},
   "outputs": [],
   "source": [
    "#run grid search on XGB classifier and pparameter grid\n",
    "#CV_xgb4 = GridSearchCV(estimator=xgb4, param_grid=param_grid2, cv=5)\n",
    "#CV_xgb4.fit(X_train, y_train.values.ravel())"
   ]
  },
  {
   "cell_type": "code",
   "execution_count": 53,
   "id": "61552ddc",
   "metadata": {},
   "outputs": [],
   "source": [
    "# determine best parameters using XGB \n",
    "#CV_xgb4.best_params_"
   ]
  },
  {
   "cell_type": "code",
   "execution_count": 54,
   "id": "23b4804a",
   "metadata": {},
   "outputs": [],
   "source": [
    "#run XGB using best parameters\n",
    "#CV_xgb4=XGBClassifier(max_features='auto', n_estimators= 100, max_depth=8, criterion='entropy')\n",
    "\n",
    "# fit random forest using best parameters\n",
    "#CV_xgb4.fit(X_train, y_train.values.ravel())\n",
    "\n",
    "#predict on test data\n",
    "#y_test_pred_xgb4 = CV_xgb4.predict(X_test)"
   ]
  },
  {
   "cell_type": "code",
   "execution_count": 55,
   "id": "a63de2b2",
   "metadata": {},
   "outputs": [],
   "source": [
    "#print accuracy \n",
    "#accuracy = accuracy_score(y_test, y_test_pred_xgb4)\n",
    "#print(\"Accuracy: %.2f%%\" % (accuracy * 100.0))"
   ]
  },
  {
   "cell_type": "markdown",
   "id": "6e1059a6",
   "metadata": {},
   "source": [
    "## XGB Classifier Report"
   ]
  },
  {
   "cell_type": "code",
   "execution_count": 56,
   "id": "8522b7b2",
   "metadata": {},
   "outputs": [],
   "source": [
    "# print classification scores  0 is non bankrupt entities 1 is bankrupt entitiies\n",
    "#print(\"[Test Classification Report]\")\n",
    "#print(classification_report(y_test, y_test_pred_xgb4))"
   ]
  },
  {
   "cell_type": "markdown",
   "id": "0fbeb956",
   "metadata": {},
   "source": [
    "## Logistic Regression Hyperparameter Tuning"
   ]
  },
  {
   "cell_type": "code",
   "execution_count": 71,
   "id": "43ba7e58",
   "metadata": {},
   "outputs": [],
   "source": [
    "# create logistic regression parameter grid \n",
    "param_grid3 = {\n",
    "        'solver' : ['newton-cg', 'lbfgs', 'liblinear'],\n",
    "        'C' : [.01, .1, 1.0, 10, 100]\n",
    "}\n",
    "\n",
    "#create Logistic regression object\n",
    "clf4 = LogisticRegression(max_iter=1000)"
   ]
  },
  {
   "cell_type": "code",
   "execution_count": 72,
   "id": "e6a9a8b3",
   "metadata": {},
   "outputs": [
    {
     "data": {
      "text/plain": [
       "GridSearchCV(cv=5, estimator=LogisticRegression(max_iter=1000),\n",
       "             param_grid={'C': [0.01, 0.1, 1.0, 10, 100],\n",
       "                         'solver': ['newton-cg', 'lbfgs', 'liblinear']},\n",
       "             scoring='accuracy')"
      ]
     },
     "execution_count": 72,
     "metadata": {},
     "output_type": "execute_result"
    }
   ],
   "source": [
    "# run grid search on logistic regression object and parameter grid\n",
    "CV_clf4 = GridSearchCV(estimator=clf4, param_grid=param_grid3, cv= 5,scoring='accuracy')\n",
    "CV_clf4.fit(X_train, y_train.values.ravel())"
   ]
  },
  {
   "cell_type": "code",
   "execution_count": 73,
   "id": "f84883de",
   "metadata": {},
   "outputs": [
    {
     "data": {
      "text/plain": [
       "{'C': 0.01, 'solver': 'newton-cg'}"
      ]
     },
     "execution_count": 73,
     "metadata": {},
     "output_type": "execute_result"
    }
   ],
   "source": [
    "# determine best parameters\n",
    "CV_clf4.best_params_"
   ]
  },
  {
   "cell_type": "code",
   "execution_count": 74,
   "id": "1f5cc6f8",
   "metadata": {},
   "outputs": [],
   "source": [
    "#run XGB using best parameters\n",
    "CV_clf4=LogisticRegression(C= .01, solver = 'newton-cg')\n",
    "\n",
    "# fit random forest using best parameters\n",
    "CV_clf4.fit(X_train, y_train.values.ravel())\n",
    "\n",
    "#predict on test data\n",
    "y_test_pred_clf4 = CV_clf4.predict(X_test)"
   ]
  },
  {
   "cell_type": "code",
   "execution_count": 75,
   "id": "3856e5e5",
   "metadata": {},
   "outputs": [
    {
     "name": "stdout",
     "output_type": "stream",
     "text": [
      "Accuracy: 95.18%\n"
     ]
    }
   ],
   "source": [
    "#print accuracy \n",
    "accuracy = accuracy_score(y_test, y_test_pred_clf4)\n",
    "print(\"Accuracy: %.2f%%\" % (accuracy * 100.0))"
   ]
  },
  {
   "cell_type": "markdown",
   "id": "fd30db66",
   "metadata": {},
   "source": [
    "## Logistic Regression Classification Report "
   ]
  },
  {
   "cell_type": "code",
   "execution_count": 76,
   "id": "1d6c99c8",
   "metadata": {},
   "outputs": [
    {
     "name": "stdout",
     "output_type": "stream",
     "text": [
      "[Test Classification Report]\n",
      "              precision    recall  f1-score   support\n",
      "\n",
      "           0       0.95      1.00      0.98     10329\n",
      "           1       0.50      0.00      0.00       523\n",
      "\n",
      "    accuracy                           0.95     10852\n",
      "   macro avg       0.73      0.50      0.49     10852\n",
      "weighted avg       0.93      0.95      0.93     10852\n",
      "\n"
     ]
    }
   ],
   "source": [
    "# print classification scores  0 is non bankrupt entities 1 is bankrupt entitiies\n",
    "print(\"[Test Classification Report]\")\n",
    "print(classification_report(y_test, y_test_pred_clf4))"
   ]
  },
  {
   "cell_type": "markdown",
   "id": "7ccc74dc",
   "metadata": {},
   "source": [
    "## Feature Importance"
   ]
  },
  {
   "cell_type": "code",
   "execution_count": null,
   "id": "70116475",
   "metadata": {},
   "outputs": [],
   "source": [
    "#plt.figure(figsize=(20,15))\n",
    "#xgb.plot_importance(classifier, ax=plt.gca())"
   ]
  }
 ],
 "metadata": {
  "kernelspec": {
   "display_name": "Python 3",
   "language": "python",
   "name": "python3"
  },
  "language_info": {
   "codemirror_mode": {
    "name": "ipython",
    "version": 3
   },
   "file_extension": ".py",
   "mimetype": "text/x-python",
   "name": "python",
   "nbconvert_exporter": "python",
   "pygments_lexer": "ipython3",
   "version": "3.7.6"
  }
 },
 "nbformat": 4,
 "nbformat_minor": 5
}
