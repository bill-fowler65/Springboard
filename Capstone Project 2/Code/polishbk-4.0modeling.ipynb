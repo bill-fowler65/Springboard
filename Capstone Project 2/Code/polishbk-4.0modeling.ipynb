{
 "cells": [
  {
   "cell_type": "markdown",
   "id": "7d067062",
   "metadata": {},
   "source": [
    "# Capstone 2"
   ]
  },
  {
   "cell_type": "markdown",
   "id": "79461eba",
   "metadata": {},
   "source": [
    "## Polish Bankruptcy"
   ]
  },
  {
   "cell_type": "markdown",
   "id": "725ccd8d",
   "metadata": {},
   "source": [
    "## Modeling"
   ]
  },
  {
   "cell_type": "markdown",
   "id": "5a884ae8",
   "metadata": {},
   "source": [
    "markdown text"
   ]
  },
  {
   "cell_type": "markdown",
   "id": "359411ae",
   "metadata": {},
   "source": [
    "## Import Statements"
   ]
  },
  {
   "cell_type": "code",
   "execution_count": 1,
   "id": "b3e79c00",
   "metadata": {},
   "outputs": [],
   "source": [
    "import pandas as pd\n",
    "import numpy as np\n",
    "import os\n",
    "import pickle\n",
    "import matplotlib.pyplot as plt\n",
    "import seaborn as sns\n",
    "from sklearn import __version__ as sklearn_version\n",
    "from sklearn.model_selection import cross_validate"
   ]
  },
  {
   "cell_type": "markdown",
   "id": "0d2f5cd8",
   "metadata": {},
   "source": [
    "## Load Data"
   ]
  },
  {
   "cell_type": "code",
   "execution_count": 2,
   "id": "01ccede4",
   "metadata": {},
   "outputs": [
    {
     "name": "stdout",
     "output_type": "stream",
     "text": [
      "       Unnamed: 0         0         1         2         3         4         5  \\\n",
      "0               0  0.127666 -0.163551 -0.019446 -0.213395 -0.025616 -0.037721   \n",
      "1               1 -0.053666  0.028093 -0.014577  0.010597 -0.019986 -0.035235   \n",
      "2               2 -0.007887 -0.039875 -0.018477  0.031222 -0.023735 -0.034676   \n",
      "3               3 -0.006966  0.046737 -0.012777  0.045826 -0.023654 -0.031725   \n",
      "4               4 -0.077769  0.085720 -0.000891  0.058324 -0.010024 -0.030893   \n",
      "...           ...       ...       ...       ...       ...       ...       ...   \n",
      "32548       32548  0.249851 -0.139514 -0.019874 -0.003918 -0.026012 -0.031294   \n",
      "32549       32549 -0.025706  0.029824 -0.015768  0.035081 -0.022830 -0.032927   \n",
      "32550       32550 -0.006487  0.011172 -0.014978  0.005887 -0.023610 -0.030218   \n",
      "32551       32551 -0.070602  0.067679 -0.004315  0.005876 -0.014995 -0.035090   \n",
      "32552       32552  0.016042 -0.061004 -0.019018 -0.001437 -0.024267  0.094182   \n",
      "\n",
      "              6         7         8  ...        31        32        33  \\\n",
      "0     -0.073549 -0.339471 -0.025469  ... -0.017743 -0.010243 -0.018906   \n",
      "1      0.009176 -0.032724 -0.014684  ... -0.013072 -0.010977 -0.016802   \n",
      "2     -0.014012 -0.033221 -0.015058  ... -0.017177 -0.010657 -0.017590   \n",
      "3     -0.011934 -0.003059 -0.008565  ... -0.015761 -0.010803 -0.017177   \n",
      "4      0.020583  0.006298  0.003409  ...  0.000051 -0.010934 -0.015548   \n",
      "...         ...       ...       ...  ...       ...       ...       ...   \n",
      "32548 -0.124618 -0.342898 -0.031364  ... -0.018558 -0.010531 -0.019353   \n",
      "32549 -0.004345  0.003568 -0.011121  ... -0.014213 -0.010750 -0.016529   \n",
      "32550 -0.010802  0.002055 -0.009924  ... -0.017021 -0.010858 -0.017503   \n",
      "32551  0.017666  0.006355  0.002582  ... -0.007463 -0.010926 -0.016281   \n",
      "32552 -0.020805 -0.022322 -0.014649  ... -0.017683 -0.010981 -0.017727   \n",
      "\n",
      "             34        35        36        37        38        39        40  \n",
      "0     -0.019411  0.005598 -0.006091 -0.008469 -0.127717 -0.026396 -0.729970  \n",
      "1     -0.017316  0.005616 -0.006109 -0.009934  0.033371 -0.025765 -1.508513  \n",
      "2     -0.017984  0.005620 -0.006113 -0.009385 -0.099110 -0.027381 -0.729970  \n",
      "3     -0.017012  0.005636 -0.006129 -0.009693 -0.063946 -0.026999  0.048574  \n",
      "4     -0.016063  0.005640 -0.006133 -0.009902  0.009457 -0.026805  0.827117  \n",
      "...         ...       ...       ...       ...       ...       ...       ...  \n",
      "32548 -0.018526  0.005468 -0.005949 -0.008218 -0.130822 -0.027612  0.048574  \n",
      "32549 -0.017043  0.005630 -0.006123 -0.009585 -0.080565 -0.025614  1.605661  \n",
      "32550 -0.017569  0.005635 -0.006121 -0.009775 -0.044745 -0.027462  1.605661  \n",
      "32551 -0.016796  0.005640 -0.006135 -0.009890  0.001978 -0.027179 -0.729970  \n",
      "32552 -0.018059  0.005619 -0.006111 -0.009945  0.043006 -0.024620  0.048574  \n",
      "\n",
      "[32553 rows x 42 columns]\n"
     ]
    }
   ],
   "source": [
    "#model.fit(X_train, Y_train)\n",
    "# save the model to disk\n",
    "#filename = 'finalized_model.sav'\n",
    "#pickle.dump(model, open(filename, 'wb'))\n",
    " \n",
    "# load the model from disk\n",
    "filename = 'X_train_scaled_split.csv'\n",
    "X_train_scaled = pd.read_csv(filename)\n",
    "\n",
    "#loaded_pickle = pickle.load(open(filename, 'rb'))\n",
    "\n",
    "#print(loaded_pickle.columns)\n",
    "#result = loaded_model.score(X_test, Y_test)\n",
    "print(X_train_scaled)\n",
    "\n",
    "#expected_model_version = '1.0'\n",
    "#model_path = '../models/ski_resort_pricing_model.pkl'\n",
    "#if os.path.exists(model_path):\n",
    "#    with open(model_path, 'rb') as f:\n",
    "#        model = pickle.load(f)\n",
    "#    if model.version != expected_model_version:\n",
    "#        print(\"Expected model version doesn't match version loaded\")\n",
    "#    if model.sklearn_version != sklearn_version:\n",
    "#        print(\"Warning: model created under different sklearn version\")\n",
    "#else:\n",
    "#    print(\"Expected model not found\")\n",
    "\n",
    "\n"
   ]
  },
  {
   "cell_type": "code",
   "execution_count": null,
   "id": "6bf25edf",
   "metadata": {},
   "outputs": [],
   "source": []
  },
  {
   "cell_type": "code",
   "execution_count": null,
   "id": "bf82aede",
   "metadata": {},
   "outputs": [],
   "source": []
  }
 ],
 "metadata": {
  "kernelspec": {
   "display_name": "Python 3",
   "language": "python",
   "name": "python3"
  },
  "language_info": {
   "codemirror_mode": {
    "name": "ipython",
    "version": 3
   },
   "file_extension": ".py",
   "mimetype": "text/x-python",
   "name": "python",
   "nbconvert_exporter": "python",
   "pygments_lexer": "ipython3",
   "version": "3.7.6"
  }
 },
 "nbformat": 4,
 "nbformat_minor": 5
}
